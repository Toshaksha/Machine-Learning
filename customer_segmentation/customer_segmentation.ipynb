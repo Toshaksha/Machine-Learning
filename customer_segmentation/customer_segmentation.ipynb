{
  "nbformat": 4,
  "nbformat_minor": 0,
  "metadata": {
    "colab": {
      "provenance": []
    },
    "kernelspec": {
      "name": "python3",
      "display_name": "Python 3"
    },
    "language_info": {
      "name": "python"
    }
  },
  "cells": [
    {
      "cell_type": "markdown",
      "source": [
        "# Customer Segmentation using KMeans Clustering\n",
        "\n",
        "### Objective:\n",
        "\n",
        "This machine learning project uses customer data (age, income, and spending score) to group mall customers into distinct segments using **unsupervised learning (KMeans)**. These segments help businesses understand and target customers more effectively.\n",
        "\n",
        "---\n",
        "\n",
        "### Workflow Overview:\n",
        "\n",
        "* **Import Libraries** – Load required Python packages\n",
        "* **Load & Explore Data** – Understand dataset structure, missing values, and key features\n",
        "* **Feature Selection** – Choose relevant variables for clustering\n",
        "* **Optimal Clusters (Elbow Method)** – Use WCSS to identify the best number of clusters\n",
        "* **Model Training** – Apply KMeans clustering to segment customers\n",
        "* **Visualization** – Plot customer segments and centroids\n",
        "* **Label Clusters** – Assign meaningful names to each customer group\n",
        "\n",
        "---\n",
        "\n",
        "### Problem Type:\n",
        "\n",
        "Unsupervised Learning – **Clustering**\n",
        "\n",
        "---\n",
        "\n",
        "### Dataset:\n",
        "\n",
        "**Source:** [Customer Segmentation Dataset on Kaggle](https://www.kaggle.com/datasets/vjchoudhary7/customer-segmentation-tutorial-in-python)\n",
        "\n",
        "**Rows:** 200 customers\n",
        "\n",
        "**Features:**\n",
        "\n",
        "* **CustomerID:** Unique customer ID\n",
        "* **Gender:** Male or Female\n",
        "* **Age:** Age of the customer\n",
        "* **Annual Income (k\\$):** Income in thousands of dollars\n",
        "* **Spending Score (1–100):** Score based on mall spending behavior\n",
        "\n",
        "---\n",
        "\n",
        "### Output:\n",
        "\n",
        "A labeled dataset with customers segmented into 5 groups such as:\n",
        "\n",
        "* High Income – High Spenders\n",
        "* Low Income – High Spenders\n",
        "* Moderate Spenders\n",
        "* Cautious Buyers\n",
        "* Budget Shoppers\n",
        "\n",
        "---\n",
        "\n",
        "\n"
      ],
      "metadata": {
        "id": "-vwSknnXE0qD"
      }
    },
    {
      "cell_type": "markdown",
      "source": [
        "# Step - 1\n",
        "### Importing Dependencies\n",
        "Using `NumPy` and `Pandas` for data handling, `Matplotlib` and `Seaborn` for visualization, and `Scikit-learn` for clustering (KMeans).\n"
      ],
      "metadata": {
        "id": "TVwU4fVWzge_"
      }
    },
    {
      "cell_type": "code",
      "source": [
        "import numpy as np\n",
        "import pandas as pd\n",
        "import matplotlib.pyplot as plt\n",
        "import seaborn as sns\n",
        "from sklearn.cluster import KMeans"
      ],
      "metadata": {
        "id": "xCcjRBFZzkUa"
      },
      "execution_count": 1,
      "outputs": []
    },
    {
      "cell_type": "markdown",
      "source": [
        "# Step - 2\n",
        "### Data Collection and Preprocessing"
      ],
      "metadata": {
        "id": "PWajzcNcnCpL"
      }
    },
    {
      "cell_type": "code",
      "source": [
        "# Load a CSV file into a DataFrame\n",
        "customer_data = pd.read_csv('/content/Mall_Customers.csv')"
      ],
      "metadata": {
        "id": "YbZBOcm2mstn"
      },
      "execution_count": 2,
      "outputs": []
    },
    {
      "cell_type": "code",
      "source": [
        "# Print first few rows of data\n",
        "customer_data.head()"
      ],
      "metadata": {
        "colab": {
          "base_uri": "https://localhost:8080/",
          "height": 206
        },
        "id": "mb9IqDySnoyh",
        "outputId": "d669676f-8428-4704-d98c-1036ecf1182c"
      },
      "execution_count": 3,
      "outputs": [
        {
          "output_type": "execute_result",
          "data": {
            "text/plain": [
              "   CustomerID  Gender  Age  Annual Income (k$)  Spending Score (1-100)\n",
              "0           1    Male   19                  15                      39\n",
              "1           2    Male   21                  15                      81\n",
              "2           3  Female   20                  16                       6\n",
              "3           4  Female   23                  16                      77\n",
              "4           5  Female   31                  17                      40"
            ],
            "text/html": [
              "\n",
              "  <div id=\"df-4b21d8d1-4ead-447d-9011-6dc848f8e3af\" class=\"colab-df-container\">\n",
              "    <div>\n",
              "<style scoped>\n",
              "    .dataframe tbody tr th:only-of-type {\n",
              "        vertical-align: middle;\n",
              "    }\n",
              "\n",
              "    .dataframe tbody tr th {\n",
              "        vertical-align: top;\n",
              "    }\n",
              "\n",
              "    .dataframe thead th {\n",
              "        text-align: right;\n",
              "    }\n",
              "</style>\n",
              "<table border=\"1\" class=\"dataframe\">\n",
              "  <thead>\n",
              "    <tr style=\"text-align: right;\">\n",
              "      <th></th>\n",
              "      <th>CustomerID</th>\n",
              "      <th>Gender</th>\n",
              "      <th>Age</th>\n",
              "      <th>Annual Income (k$)</th>\n",
              "      <th>Spending Score (1-100)</th>\n",
              "    </tr>\n",
              "  </thead>\n",
              "  <tbody>\n",
              "    <tr>\n",
              "      <th>0</th>\n",
              "      <td>1</td>\n",
              "      <td>Male</td>\n",
              "      <td>19</td>\n",
              "      <td>15</td>\n",
              "      <td>39</td>\n",
              "    </tr>\n",
              "    <tr>\n",
              "      <th>1</th>\n",
              "      <td>2</td>\n",
              "      <td>Male</td>\n",
              "      <td>21</td>\n",
              "      <td>15</td>\n",
              "      <td>81</td>\n",
              "    </tr>\n",
              "    <tr>\n",
              "      <th>2</th>\n",
              "      <td>3</td>\n",
              "      <td>Female</td>\n",
              "      <td>20</td>\n",
              "      <td>16</td>\n",
              "      <td>6</td>\n",
              "    </tr>\n",
              "    <tr>\n",
              "      <th>3</th>\n",
              "      <td>4</td>\n",
              "      <td>Female</td>\n",
              "      <td>23</td>\n",
              "      <td>16</td>\n",
              "      <td>77</td>\n",
              "    </tr>\n",
              "    <tr>\n",
              "      <th>4</th>\n",
              "      <td>5</td>\n",
              "      <td>Female</td>\n",
              "      <td>31</td>\n",
              "      <td>17</td>\n",
              "      <td>40</td>\n",
              "    </tr>\n",
              "  </tbody>\n",
              "</table>\n",
              "</div>\n",
              "    <div class=\"colab-df-buttons\">\n",
              "\n",
              "  <div class=\"colab-df-container\">\n",
              "    <button class=\"colab-df-convert\" onclick=\"convertToInteractive('df-4b21d8d1-4ead-447d-9011-6dc848f8e3af')\"\n",
              "            title=\"Convert this dataframe to an interactive table.\"\n",
              "            style=\"display:none;\">\n",
              "\n",
              "  <svg xmlns=\"http://www.w3.org/2000/svg\" height=\"24px\" viewBox=\"0 -960 960 960\">\n",
              "    <path d=\"M120-120v-720h720v720H120Zm60-500h600v-160H180v160Zm220 220h160v-160H400v160Zm0 220h160v-160H400v160ZM180-400h160v-160H180v160Zm440 0h160v-160H620v160ZM180-180h160v-160H180v160Zm440 0h160v-160H620v160Z\"/>\n",
              "  </svg>\n",
              "    </button>\n",
              "\n",
              "  <style>\n",
              "    .colab-df-container {\n",
              "      display:flex;\n",
              "      gap: 12px;\n",
              "    }\n",
              "\n",
              "    .colab-df-convert {\n",
              "      background-color: #E8F0FE;\n",
              "      border: none;\n",
              "      border-radius: 50%;\n",
              "      cursor: pointer;\n",
              "      display: none;\n",
              "      fill: #1967D2;\n",
              "      height: 32px;\n",
              "      padding: 0 0 0 0;\n",
              "      width: 32px;\n",
              "    }\n",
              "\n",
              "    .colab-df-convert:hover {\n",
              "      background-color: #E2EBFA;\n",
              "      box-shadow: 0px 1px 2px rgba(60, 64, 67, 0.3), 0px 1px 3px 1px rgba(60, 64, 67, 0.15);\n",
              "      fill: #174EA6;\n",
              "    }\n",
              "\n",
              "    .colab-df-buttons div {\n",
              "      margin-bottom: 4px;\n",
              "    }\n",
              "\n",
              "    [theme=dark] .colab-df-convert {\n",
              "      background-color: #3B4455;\n",
              "      fill: #D2E3FC;\n",
              "    }\n",
              "\n",
              "    [theme=dark] .colab-df-convert:hover {\n",
              "      background-color: #434B5C;\n",
              "      box-shadow: 0px 1px 3px 1px rgba(0, 0, 0, 0.15);\n",
              "      filter: drop-shadow(0px 1px 2px rgba(0, 0, 0, 0.3));\n",
              "      fill: #FFFFFF;\n",
              "    }\n",
              "  </style>\n",
              "\n",
              "    <script>\n",
              "      const buttonEl =\n",
              "        document.querySelector('#df-4b21d8d1-4ead-447d-9011-6dc848f8e3af button.colab-df-convert');\n",
              "      buttonEl.style.display =\n",
              "        google.colab.kernel.accessAllowed ? 'block' : 'none';\n",
              "\n",
              "      async function convertToInteractive(key) {\n",
              "        const element = document.querySelector('#df-4b21d8d1-4ead-447d-9011-6dc848f8e3af');\n",
              "        const dataTable =\n",
              "          await google.colab.kernel.invokeFunction('convertToInteractive',\n",
              "                                                    [key], {});\n",
              "        if (!dataTable) return;\n",
              "\n",
              "        const docLinkHtml = 'Like what you see? Visit the ' +\n",
              "          '<a target=\"_blank\" href=https://colab.research.google.com/notebooks/data_table.ipynb>data table notebook</a>'\n",
              "          + ' to learn more about interactive tables.';\n",
              "        element.innerHTML = '';\n",
              "        dataTable['output_type'] = 'display_data';\n",
              "        await google.colab.output.renderOutput(dataTable, element);\n",
              "        const docLink = document.createElement('div');\n",
              "        docLink.innerHTML = docLinkHtml;\n",
              "        element.appendChild(docLink);\n",
              "      }\n",
              "    </script>\n",
              "  </div>\n",
              "\n",
              "\n",
              "    <div id=\"df-d7826c87-1cbf-4a22-a82a-722bb5eaa64c\">\n",
              "      <button class=\"colab-df-quickchart\" onclick=\"quickchart('df-d7826c87-1cbf-4a22-a82a-722bb5eaa64c')\"\n",
              "                title=\"Suggest charts\"\n",
              "                style=\"display:none;\">\n",
              "\n",
              "<svg xmlns=\"http://www.w3.org/2000/svg\" height=\"24px\"viewBox=\"0 0 24 24\"\n",
              "     width=\"24px\">\n",
              "    <g>\n",
              "        <path d=\"M19 3H5c-1.1 0-2 .9-2 2v14c0 1.1.9 2 2 2h14c1.1 0 2-.9 2-2V5c0-1.1-.9-2-2-2zM9 17H7v-7h2v7zm4 0h-2V7h2v10zm4 0h-2v-4h2v4z\"/>\n",
              "    </g>\n",
              "</svg>\n",
              "      </button>\n",
              "\n",
              "<style>\n",
              "  .colab-df-quickchart {\n",
              "      --bg-color: #E8F0FE;\n",
              "      --fill-color: #1967D2;\n",
              "      --hover-bg-color: #E2EBFA;\n",
              "      --hover-fill-color: #174EA6;\n",
              "      --disabled-fill-color: #AAA;\n",
              "      --disabled-bg-color: #DDD;\n",
              "  }\n",
              "\n",
              "  [theme=dark] .colab-df-quickchart {\n",
              "      --bg-color: #3B4455;\n",
              "      --fill-color: #D2E3FC;\n",
              "      --hover-bg-color: #434B5C;\n",
              "      --hover-fill-color: #FFFFFF;\n",
              "      --disabled-bg-color: #3B4455;\n",
              "      --disabled-fill-color: #666;\n",
              "  }\n",
              "\n",
              "  .colab-df-quickchart {\n",
              "    background-color: var(--bg-color);\n",
              "    border: none;\n",
              "    border-radius: 50%;\n",
              "    cursor: pointer;\n",
              "    display: none;\n",
              "    fill: var(--fill-color);\n",
              "    height: 32px;\n",
              "    padding: 0;\n",
              "    width: 32px;\n",
              "  }\n",
              "\n",
              "  .colab-df-quickchart:hover {\n",
              "    background-color: var(--hover-bg-color);\n",
              "    box-shadow: 0 1px 2px rgba(60, 64, 67, 0.3), 0 1px 3px 1px rgba(60, 64, 67, 0.15);\n",
              "    fill: var(--button-hover-fill-color);\n",
              "  }\n",
              "\n",
              "  .colab-df-quickchart-complete:disabled,\n",
              "  .colab-df-quickchart-complete:disabled:hover {\n",
              "    background-color: var(--disabled-bg-color);\n",
              "    fill: var(--disabled-fill-color);\n",
              "    box-shadow: none;\n",
              "  }\n",
              "\n",
              "  .colab-df-spinner {\n",
              "    border: 2px solid var(--fill-color);\n",
              "    border-color: transparent;\n",
              "    border-bottom-color: var(--fill-color);\n",
              "    animation:\n",
              "      spin 1s steps(1) infinite;\n",
              "  }\n",
              "\n",
              "  @keyframes spin {\n",
              "    0% {\n",
              "      border-color: transparent;\n",
              "      border-bottom-color: var(--fill-color);\n",
              "      border-left-color: var(--fill-color);\n",
              "    }\n",
              "    20% {\n",
              "      border-color: transparent;\n",
              "      border-left-color: var(--fill-color);\n",
              "      border-top-color: var(--fill-color);\n",
              "    }\n",
              "    30% {\n",
              "      border-color: transparent;\n",
              "      border-left-color: var(--fill-color);\n",
              "      border-top-color: var(--fill-color);\n",
              "      border-right-color: var(--fill-color);\n",
              "    }\n",
              "    40% {\n",
              "      border-color: transparent;\n",
              "      border-right-color: var(--fill-color);\n",
              "      border-top-color: var(--fill-color);\n",
              "    }\n",
              "    60% {\n",
              "      border-color: transparent;\n",
              "      border-right-color: var(--fill-color);\n",
              "    }\n",
              "    80% {\n",
              "      border-color: transparent;\n",
              "      border-right-color: var(--fill-color);\n",
              "      border-bottom-color: var(--fill-color);\n",
              "    }\n",
              "    90% {\n",
              "      border-color: transparent;\n",
              "      border-bottom-color: var(--fill-color);\n",
              "    }\n",
              "  }\n",
              "</style>\n",
              "\n",
              "      <script>\n",
              "        async function quickchart(key) {\n",
              "          const quickchartButtonEl =\n",
              "            document.querySelector('#' + key + ' button');\n",
              "          quickchartButtonEl.disabled = true;  // To prevent multiple clicks.\n",
              "          quickchartButtonEl.classList.add('colab-df-spinner');\n",
              "          try {\n",
              "            const charts = await google.colab.kernel.invokeFunction(\n",
              "                'suggestCharts', [key], {});\n",
              "          } catch (error) {\n",
              "            console.error('Error during call to suggestCharts:', error);\n",
              "          }\n",
              "          quickchartButtonEl.classList.remove('colab-df-spinner');\n",
              "          quickchartButtonEl.classList.add('colab-df-quickchart-complete');\n",
              "        }\n",
              "        (() => {\n",
              "          let quickchartButtonEl =\n",
              "            document.querySelector('#df-d7826c87-1cbf-4a22-a82a-722bb5eaa64c button');\n",
              "          quickchartButtonEl.style.display =\n",
              "            google.colab.kernel.accessAllowed ? 'block' : 'none';\n",
              "        })();\n",
              "      </script>\n",
              "    </div>\n",
              "\n",
              "    </div>\n",
              "  </div>\n"
            ],
            "application/vnd.google.colaboratory.intrinsic+json": {
              "type": "dataframe",
              "variable_name": "customer_data",
              "summary": "{\n  \"name\": \"customer_data\",\n  \"rows\": 200,\n  \"fields\": [\n    {\n      \"column\": \"CustomerID\",\n      \"properties\": {\n        \"dtype\": \"number\",\n        \"std\": 57,\n        \"min\": 1,\n        \"max\": 200,\n        \"num_unique_values\": 200,\n        \"samples\": [\n          96,\n          16,\n          31\n        ],\n        \"semantic_type\": \"\",\n        \"description\": \"\"\n      }\n    },\n    {\n      \"column\": \"Gender\",\n      \"properties\": {\n        \"dtype\": \"category\",\n        \"num_unique_values\": 2,\n        \"samples\": [\n          \"Female\",\n          \"Male\"\n        ],\n        \"semantic_type\": \"\",\n        \"description\": \"\"\n      }\n    },\n    {\n      \"column\": \"Age\",\n      \"properties\": {\n        \"dtype\": \"number\",\n        \"std\": 13,\n        \"min\": 18,\n        \"max\": 70,\n        \"num_unique_values\": 51,\n        \"samples\": [\n          55,\n          26\n        ],\n        \"semantic_type\": \"\",\n        \"description\": \"\"\n      }\n    },\n    {\n      \"column\": \"Annual Income (k$)\",\n      \"properties\": {\n        \"dtype\": \"number\",\n        \"std\": 26,\n        \"min\": 15,\n        \"max\": 137,\n        \"num_unique_values\": 64,\n        \"samples\": [\n          87,\n          101\n        ],\n        \"semantic_type\": \"\",\n        \"description\": \"\"\n      }\n    },\n    {\n      \"column\": \"Spending Score (1-100)\",\n      \"properties\": {\n        \"dtype\": \"number\",\n        \"std\": 25,\n        \"min\": 1,\n        \"max\": 99,\n        \"num_unique_values\": 84,\n        \"samples\": [\n          83,\n          39\n        ],\n        \"semantic_type\": \"\",\n        \"description\": \"\"\n      }\n    }\n  ]\n}"
            }
          },
          "metadata": {},
          "execution_count": 3
        }
      ]
    },
    {
      "cell_type": "markdown",
      "source": [
        "**Dataset Description:**\n",
        "\n",
        "- `CustomerID`: Unique identifier for each customer.\n",
        "- `Gender`: Gender of the customer (`Male` or `Female`).\n",
        "- `Age`: Age of the customer.\n",
        "- `Annual Income (k$)`: The customer's annual income in thousands of dollars.\n",
        "- `Spending Score (1-100)`: Score assigned by the mall based on spending behavior. A higher score usually indicates a higher tendency to spend.\n",
        "\n"
      ],
      "metadata": {
        "id": "EuLptSx7oWxv"
      }
    },
    {
      "cell_type": "code",
      "source": [
        "# Print the dimension of our dataset (rows,columns)\n",
        "customer_data.shape"
      ],
      "metadata": {
        "colab": {
          "base_uri": "https://localhost:8080/"
        },
        "id": "LL2zTj-7nuH0",
        "outputId": "f00a8a02-dc9c-48bb-f6f7-be0ac9757588"
      },
      "execution_count": 4,
      "outputs": [
        {
          "output_type": "execute_result",
          "data": {
            "text/plain": [
              "(200, 5)"
            ]
          },
          "metadata": {},
          "execution_count": 4
        }
      ]
    },
    {
      "cell_type": "code",
      "source": [
        "# Display basic info including data types and missing values\n",
        "customer_data.info()"
      ],
      "metadata": {
        "colab": {
          "base_uri": "https://localhost:8080/"
        },
        "id": "f2e1tQsaoymP",
        "outputId": "bb01b3c8-6873-42e7-bb7c-594ed751f9e1"
      },
      "execution_count": 5,
      "outputs": [
        {
          "output_type": "stream",
          "name": "stdout",
          "text": [
            "<class 'pandas.core.frame.DataFrame'>\n",
            "RangeIndex: 200 entries, 0 to 199\n",
            "Data columns (total 5 columns):\n",
            " #   Column                  Non-Null Count  Dtype \n",
            "---  ------                  --------------  ----- \n",
            " 0   CustomerID              200 non-null    int64 \n",
            " 1   Gender                  200 non-null    object\n",
            " 2   Age                     200 non-null    int64 \n",
            " 3   Annual Income (k$)      200 non-null    int64 \n",
            " 4   Spending Score (1-100)  200 non-null    int64 \n",
            "dtypes: int64(4), object(1)\n",
            "memory usage: 7.9+ KB\n"
          ]
        }
      ]
    },
    {
      "cell_type": "code",
      "source": [
        "# Check for missing values in each column\n",
        "customer_data.isnull().sum()"
      ],
      "metadata": {
        "colab": {
          "base_uri": "https://localhost:8080/",
          "height": 241
        },
        "id": "8oxlh9Sio3kS",
        "outputId": "33db06a9-09e8-4219-cf40-300395dfb658"
      },
      "execution_count": 6,
      "outputs": [
        {
          "output_type": "execute_result",
          "data": {
            "text/plain": [
              "CustomerID                0\n",
              "Gender                    0\n",
              "Age                       0\n",
              "Annual Income (k$)        0\n",
              "Spending Score (1-100)    0\n",
              "dtype: int64"
            ],
            "text/html": [
              "<div>\n",
              "<style scoped>\n",
              "    .dataframe tbody tr th:only-of-type {\n",
              "        vertical-align: middle;\n",
              "    }\n",
              "\n",
              "    .dataframe tbody tr th {\n",
              "        vertical-align: top;\n",
              "    }\n",
              "\n",
              "    .dataframe thead th {\n",
              "        text-align: right;\n",
              "    }\n",
              "</style>\n",
              "<table border=\"1\" class=\"dataframe\">\n",
              "  <thead>\n",
              "    <tr style=\"text-align: right;\">\n",
              "      <th></th>\n",
              "      <th>0</th>\n",
              "    </tr>\n",
              "  </thead>\n",
              "  <tbody>\n",
              "    <tr>\n",
              "      <th>CustomerID</th>\n",
              "      <td>0</td>\n",
              "    </tr>\n",
              "    <tr>\n",
              "      <th>Gender</th>\n",
              "      <td>0</td>\n",
              "    </tr>\n",
              "    <tr>\n",
              "      <th>Age</th>\n",
              "      <td>0</td>\n",
              "    </tr>\n",
              "    <tr>\n",
              "      <th>Annual Income (k$)</th>\n",
              "      <td>0</td>\n",
              "    </tr>\n",
              "    <tr>\n",
              "      <th>Spending Score (1-100)</th>\n",
              "      <td>0</td>\n",
              "    </tr>\n",
              "  </tbody>\n",
              "</table>\n",
              "</div><br><label><b>dtype:</b> int64</label>"
            ]
          },
          "metadata": {},
          "execution_count": 6
        }
      ]
    },
    {
      "cell_type": "markdown",
      "source": [
        "***Seprating data for further analysis***"
      ],
      "metadata": {
        "id": "TCzZw3KM3pF0"
      }
    },
    {
      "cell_type": "markdown",
      "source": [
        "Selecting features for clustering: 'Annual Income (k$)' and 'Spending Score (1-100)'\n"
      ],
      "metadata": {
        "id": "YhqSScVSxL4P"
      }
    },
    {
      "cell_type": "code",
      "source": [
        "X = customer_data.iloc[:,[3,4]].values"
      ],
      "metadata": {
        "id": "vxwp5_lixRLj"
      },
      "execution_count": 7,
      "outputs": []
    },
    {
      "cell_type": "markdown",
      "source": [
        "- Format of .iloc:\n",
        "```\n",
        ".iloc[<row_index_selection>, <column_index_selection>]\n",
        "```\n",
        "In this case:\n",
        "    - `:` (for rows): This means select all rows.\n",
        "    - `[3, 4]` (for columns): This means select columns with index 3 and 4."
      ],
      "metadata": {
        "id": "hLVLeirAyumm"
      }
    },
    {
      "cell_type": "code",
      "source": [
        "# Print first 5 rows\n",
        "print(X[:5])"
      ],
      "metadata": {
        "colab": {
          "base_uri": "https://localhost:8080/"
        },
        "id": "YKMHXWkuzLcr",
        "outputId": "7f36e860-6814-4f91-9c8f-bb2eecb92566"
      },
      "execution_count": 8,
      "outputs": [
        {
          "output_type": "stream",
          "name": "stdout",
          "text": [
            "[[15 39]\n",
            " [15 81]\n",
            " [16  6]\n",
            " [16 77]\n",
            " [17 40]]\n"
          ]
        }
      ]
    },
    {
      "cell_type": "markdown",
      "source": [
        "# Step - 3\n",
        "### Data Analysis"
      ],
      "metadata": {
        "id": "qulAK8-W40xx"
      }
    },
    {
      "cell_type": "markdown",
      "source": [
        "Choosing the optimal number of clusters using the Elbow Method\n",
        "\n",
        "\n",
        "#### What is WCSS?\n",
        "\n",
        "- WCSS stands for \"Within-Cluster Sum of Squares\".\n",
        "- It measures the total variance within each cluster.\n",
        "- Lower WCSS means tighter clusters (i.e., data points are closer to the cluster centroid).\n",
        "\n",
        "#### Formula:\n",
        "For each cluster:\n",
        "\n",
        "```\n",
        "    WCSS = Σ (distance between each point and the centroid of its cluster)²\n",
        "```\n",
        "\n",
        "Total WCSS = Sum of all individual cluster WCSS values.\n",
        "\n",
        "#### Why we use it:\n",
        "- To evaluate how well the data points fit into clusters.\n",
        "- Helps determine the optimal number of clusters (K) using the **Elbow Method**.\n",
        "\n",
        "#### Elbow Method:\n",
        "- Plot WCSS vs. number of clusters (K).\n",
        "- The \"elbow\" point (where the curve bends) indicates the best K.\n",
        "\n"
      ],
      "metadata": {
        "id": "gcUEDguk40sb"
      }
    },
    {
      "cell_type": "code",
      "source": [
        "# Finding WCSS values for different numbers of clusters (1 to 10)\n",
        "\n",
        "wcss = []  # Empty list to store WCSS values\n",
        "\n",
        "for i in range (1,11):\n",
        "\n",
        "  # Create and fit the KMeans model with i clusters\n",
        "  kmeans = KMeans(n_clusters = i , init = 'k-means++' , random_state = 42)\n",
        "  kmeans.fit(X)\n",
        "\n",
        "  # Append the WCSS (inertia) to the list\n",
        "  wcss.append(kmeans.inertia_)"
      ],
      "metadata": {
        "id": "5H4dDJo74nsE"
      },
      "execution_count": 12,
      "outputs": []
    },
    {
      "cell_type": "code",
      "source": [
        "# Plotting the Elbow Graph\n",
        "sns.set()  # Use seaborn style\n",
        "plt.plot(range(1, 11), wcss, marker='o')\n",
        "plt.title('The Elbow Method')\n",
        "plt.xlabel('Number of Clusters')\n",
        "plt.ylabel('WCSS')\n",
        "plt.xticks(range(1, 11))\n",
        "plt.grid(True)\n",
        "plt.show()"
      ],
      "metadata": {
        "colab": {
          "base_uri": "https://localhost:8080/",
          "height": 480
        },
        "id": "gVg-6eW1S025",
        "outputId": "d74e7f4a-9b8b-4ff3-e444-22c6bb739af8"
      },
      "execution_count": 14,
      "outputs": [
        {
          "output_type": "display_data",
          "data": {
            "text/plain": [
              "<Figure size 640x480 with 1 Axes>"
            ],
            "image/png": "[encoded data removed]"
          },
          "metadata": {}
        }
      ]
    },
    {
      "cell_type": "markdown",
      "source": [
        "***Optimal Number of Clusters:***\n",
        "\n",
        "- From the elbow plot, the WCSS starts to drop (level off) at **K = 3** and **K = 5**.  \n",
        "- But after **K = 5** there is no significant dip.\n",
        "- This suggests that 5 is a good number of clusters for this dataset.\n"
      ],
      "metadata": {
        "id": "H7RoR5BLRnI0"
      }
    },
    {
      "cell_type": "markdown",
      "source": [
        "# Step - 4\n",
        "### Model Training"
      ],
      "metadata": {
        "id": "PIAsNTDb9a-l"
      }
    },
    {
      "cell_type": "code",
      "source": [
        "# Load an instance of the KMeans Clustering model\n",
        "kmeans = KMeans(n_clusters= 5 , init= 'k-means++' , random_state=0)\n",
        "\n",
        "# return the label for each data point based on their clusters\n",
        "Y = kmeans.fit_predict(X)\n",
        "\n",
        "print(Y)"
      ],
      "metadata": {
        "id": "cWtYH2Zh9aLM",
        "colab": {
          "base_uri": "https://localhost:8080/"
        },
        "outputId": "580ed577-603e-41ac-fae2-88bbb5bd915d"
      },
      "execution_count": 15,
      "outputs": [
        {
          "output_type": "stream",
          "name": "stdout",
          "text": [
            "[3 4 3 4 3 4 3 4 3 4 3 4 3 4 3 4 3 4 3 4 3 4 3 4 3 4 3 4 3 4 3 4 3 4 3 4 3\n",
            " 4 3 4 3 4 3 0 3 4 0 0 0 0 0 0 0 0 0 0 0 0 0 0 0 0 0 0 0 0 0 0 0 0 0 0 0 0\n",
            " 0 0 0 0 0 0 0 0 0 0 0 0 0 0 0 0 0 0 0 0 0 0 0 0 0 0 0 0 0 0 0 0 0 0 0 0 0\n",
            " 0 0 0 0 0 0 0 0 0 0 0 0 1 2 1 0 1 2 1 2 1 0 1 2 1 2 1 2 1 2 1 0 1 2 1 2 1\n",
            " 2 1 2 1 2 1 2 1 2 1 2 1 2 1 2 1 2 1 2 1 2 1 2 1 2 1 2 1 2 1 2 1 2 1 2 1 2\n",
            " 1 2 1 2 1 2 1 2 1 2 1 2 1 2 1]\n"
          ]
        }
      ]
    },
    {
      "cell_type": "markdown",
      "source": [
        "# Step - 5\n",
        "### Model Visualization"
      ],
      "metadata": {
        "id": "zJnKNrzt_kmj"
      }
    },
    {
      "cell_type": "markdown",
      "source": [
        "- X-axis → Annual Income\n",
        "- Y-axis → Spending Score\n",
        "- Black dots → Centroids (center of each cluster)\n",
        "\n",
        "#### Clustering works by:\n",
        "\n",
        "1. Placing initial centroids.\n",
        "2. Assigning each point to the nearest centroid (one point belongs to one cluster).\n",
        "3. Moving centroids to the center of their assigned points.\n",
        "4. Repeating steps 2–3 until clusters stabilize."
      ],
      "metadata": {
        "id": "T9yT_pOIVJSO"
      }
    },
    {
      "cell_type": "code",
      "source": [
        "plt.figure(figsize=(8, 8))  # Set the figure size for the plot\n",
        "\n",
        "# Plotting data points belonging to each cluster separately using color & label\n",
        "plt.scatter(X[Y == 0, 0], X[Y == 0, 1], s=50, c='green', label='Cluster 1')\n",
        "plt.scatter(X[Y == 1, 0], X[Y == 1, 1], s=50, c='red', label='Cluster 2')\n",
        "plt.scatter(X[Y == 2, 0], X[Y == 2, 1], s=50, c='blue', label='Cluster 3')\n",
        "plt.scatter(X[Y == 3, 0], X[Y == 3, 1], s=50, c='cyan', label='Cluster 4')\n",
        "plt.scatter(X[Y == 4, 0], X[Y == 4, 1], s=50, c='yellow', label='Cluster 5')\n",
        "\n",
        "# Explanation:\n",
        "# - X[Y == i, 0] → selects Annual Income of cluster i\n",
        "# - X[Y == i, 1] → selects Spending Score of cluster i\n",
        "# - s = size of points\n",
        "# - c = color of the cluster\n",
        "# - label = label for legend\n",
        "\n",
        "\n",
        "\n",
        "# Plotting the centroids of all clusters\n",
        "plt.scatter(kmeans.cluster_centers_[:, 0], kmeans.cluster_centers_[:, 1],\n",
        "            s=100, c='black', label='Centroid')\n",
        "\n",
        "# - kmeans.cluster_centers_ gives coordinates of cluster centers (centroids).\n",
        "# - [:, 0] → Annual Income coordinate\n",
        "# - [:, 1] → Spending Score coordinate\n",
        "\n",
        "\n",
        "\n",
        "# Final Plot Settings\n",
        "plt.title('Customer Clusters')\n",
        "plt.xlabel('Annual Income')\n",
        "plt.ylabel('Spending Score')\n",
        "plt.legend()\n",
        "plt.show()\n"
      ],
      "metadata": {
        "colab": {
          "base_uri": "https://localhost:8080/",
          "height": 650
        },
        "id": "YjCQd0pbU7ou",
        "outputId": "b1710b20-1acd-42df-afd2-59624748d229"
      },
      "execution_count": 20,
      "outputs": [
        {
          "output_type": "display_data",
          "data": {
            "text/plain": [
              "<Figure size 800x800 with 1 Axes>"
            ],
            "image/png": "[encoded data removed]"
          },
          "metadata": {}
        }
      ]
    },
    {
      "cell_type": "markdown",
      "source": [
        "Customers naturally group based on income and spending patterns.\n",
        "\n",
        "Found 5 clusters, like:\n",
        "- High income, high spenders – ideal target customers\n",
        "- Low income, high spenders – impulsive buyers\n",
        "- High income, low spenders – cautious buyers\n",
        "- Moderate income & spenders – average customers\n",
        "\n",
        "Businesses can use this for personalized marketing and customer segmentation."
      ],
      "metadata": {
        "id": "7hGDi5dXY06c"
      }
    },
    {
      "cell_type": "code",
      "source": [
        "customer_data['Cluster'] = Y\n",
        "\n",
        "# Optional: Assign custom labels for business insight\n",
        "cluster_labels = {\n",
        "    0: 'Moderate Spenders',\n",
        "    1: 'High Income Low Spenders',\n",
        "    2: 'Low Income High Spenders',\n",
        "    3: 'High Income High Spenders',\n",
        "    4: 'Low Income Low Spenders'\n",
        "}\n",
        "\n",
        "customer_data['Segment'] = customer_data['Cluster'].map(cluster_labels)\n",
        "print(customer_data.head())\n"
      ],
      "metadata": {
        "colab": {
          "base_uri": "https://localhost:8080/"
        },
        "id": "E2X_YbTjb5gP",
        "outputId": "0a7ee674-d338-40d3-c3df-6f456eabb3d4"
      },
      "execution_count": 21,
      "outputs": [
        {
          "output_type": "stream",
          "name": "stdout",
          "text": [
            "   CustomerID  Gender  Age  Annual Income (k$)  Spending Score (1-100)  \\\n",
            "0           1    Male   19                  15                      39   \n",
            "1           2    Male   21                  15                      81   \n",
            "2           3  Female   20                  16                       6   \n",
            "3           4  Female   23                  16                      77   \n",
            "4           5  Female   31                  17                      40   \n",
            "\n",
            "   Cluster                    Segment  \n",
            "0        3  High Income High Spenders  \n",
            "1        4    Low Income Low Spenders  \n",
            "2        3  High Income High Spenders  \n",
            "3        4    Low Income Low Spenders  \n",
            "4        3  High Income High Spenders  \n"
          ]
        }
      ]
    },
    {
      "cell_type": "markdown",
      "source": [
        "#### What We Did:\n",
        "\n",
        "1. **`customer_data['Cluster'] = Y`**\n",
        "   → Added the cluster number (0 to 4) for each customer.\n",
        "\n",
        "2. **Mapped cluster numbers to names**\n",
        "   → Used a dictionary to give each cluster a meaningful label (like \"High Income High Spenders\").\n",
        "\n",
        "3. **`customer_data['Segment'] = customer_data['Cluster'].map(cluster_labels)`**\n",
        "   → Created a new column with those readable segment names.\n",
        "\n",
        "---\n",
        "\n",
        "#### Why?\n",
        "\n",
        "So we can understand and explain **what kind of customer** is in each cluster — useful for marketing and decision-making.\n"
      ],
      "metadata": {
        "id": "n-UMh9dQcaAV"
      }
    }
  ]
}