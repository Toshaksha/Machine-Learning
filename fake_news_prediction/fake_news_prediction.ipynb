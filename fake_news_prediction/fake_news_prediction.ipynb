{
  "cells": [
    {
      "cell_type": "markdown",
      "metadata": {
        "id": "l6_8rr91qw5r"
      },
      "source": [
        "# Fake News Detection using Logistic Regression\n",
        "### Objective:\n",
        "Build a machine learning system that detects whether a news article is Real or Fake using Natural Language Processing (NLP) techniques and Logistic Regression.\n",
        "\n",
        "### Workflow Overview:\n",
        "- Import required libraries\n",
        "- Load and combine real and fake news datasets\n",
        "- Preprocess the text (cleaning + stemming)\n",
        "- Convert text into numerical features using TF-IDF\n",
        "- Train a Logistic Regression classifier\n",
        "- Evaluate model performance\n",
        "- Predict new input samples\n",
        "\n",
        "### Problem Type:\n",
        "Binary Classification\n",
        "  - 1 = Real\n",
        "  - 0 = Fake\n",
        "\n",
        "### Dataset:\n",
        "- Files: True.csv.zip, Fake.csv.zip\n",
        "- Columns: title, text, subject, label\n",
        "- Labels:\n",
        "  - 1 \u2192 Real\n",
        "  - 0 \u2192 Fake"
      ]
    },
    {
      "cell_type": "markdown",
      "metadata": {
        "id": "IOo9XVGassP0"
      },
      "source": [
        "# Step - 1\n",
        "### Importing Dependencies"
      ]
    },
    {
      "cell_type": "code",
      "execution_count": 143,
      "metadata": {
        "id": "MenAgzPrsowo"
      },
      "outputs": [],
      "source": [
        "import numpy as np\n",
        "import pandas as pd\n",
        "\n",
        "import zipfile\n",
        "# Used to extract and read files directly from ZIP archives\n",
        "import re\n",
        "# re (regular expression) library is useful for searching, replacing, or cleaning specific patterns in text.\n",
        "\n",
        "from nltk.corpus import stopwords\n",
        "# stopwords are common words (like a, the, is) that are usually removed from text data because they don\u2019t add much meaning.\n",
        "\n",
        "from nltk.stem.porter import PorterStemmer\n",
        "# PorterStemmer helps reduce words to their base or root form. e.g., \u201cplaying\u201d, \u201cplayed\u201d \u2192 \u201cplay\u201d.\n",
        "\n",
        "from sklearn.feature_extraction.text import TfidfVectorizer\n",
        "# Converts text data into numerical format by calculating importance of words (TF-IDF technique).\n",
        "\n",
        "from sklearn.model_selection import train_test_split\n",
        "from sklearn.linear_model import LogisticRegression\n",
        "from sklearn.metrics import accuracy_score"
      ]
    },
    {
      "cell_type": "markdown",
      "metadata": {
        "id": "96T3uFjhtci6"
      },
      "source": [
        "# Step - 2\n",
        "### Downloading Stopwords"
      ]
    },
    {
      "cell_type": "code",
      "execution_count": 102,
      "metadata": {
        "colab": {
          "base_uri": "https://localhost:8080/"
        },
        "id": "0d1Bn5BytUwz",
        "outputId": "bc6bd03b-e5fc-4080-9a69-6bd10afd5711"
      },
      "outputs": [
        {
          "name": "stderr",
          "output_type": "stream",
          "text": [
            "[nltk_data] Downloading package stopwords to /root/nltk_data...\n",
            "[nltk_data]   Package stopwords is already up-to-date!\n"
          ]
        },
        {
          "data": {
            "text/plain": [
              "True"
            ]
          },
          "execution_count": 102,
          "metadata": {},
          "output_type": "execute_result"
        }
      ],
      "source": [
        "import nltk\n",
        "nltk.download('stopwords')"
      ]
    },
    {
      "cell_type": "code",
      "execution_count": 103,
      "metadata": {
        "colab": {
          "base_uri": "https://localhost:8080/"
        },
        "id": "0J0yiuy4vvse",
        "outputId": "91155468-cdd0-410b-b1c8-239f8672eeb6"
      },
      "outputs": [
        {
          "name": "stdout",
          "output_type": "stream",
          "text": [
            "['a', 'about', 'above', 'after', 'again', 'against', 'ain', 'all', 'am', 'an', 'and', 'any', 'are', 'aren', \"aren't\", 'as', 'at', 'be', 'because', 'been', 'before', 'being', 'below', 'between', 'both', 'but', 'by', 'can', 'couldn', \"couldn't\", 'd', 'did', 'didn', \"didn't\", 'do', 'does', 'doesn', \"doesn't\", 'doing', 'don', \"don't\", 'down', 'during', 'each', 'few', 'for', 'from', 'further', 'had', 'hadn', \"hadn't\", 'has', 'hasn', \"hasn't\", 'have', 'haven', \"haven't\", 'having', 'he', \"he'd\", \"he'll\", 'her', 'here', 'hers', 'herself', \"he's\", 'him', 'himself', 'his', 'how', 'i', \"i'd\", 'if', \"i'll\", \"i'm\", 'in', 'into', 'is', 'isn', \"isn't\", 'it', \"it'd\", \"it'll\", \"it's\", 'its', 'itself', \"i've\", 'just', 'll', 'm', 'ma', 'me', 'mightn', \"mightn't\", 'more', 'most', 'mustn', \"mustn't\", 'my', 'myself', 'needn', \"needn't\", 'no', 'nor', 'not', 'now', 'o', 'of', 'off', 'on', 'once', 'only', 'or', 'other', 'our', 'ours', 'ourselves', 'out', 'over', 'own', 're', 's', 'same', 'shan', \"shan't\", 'she', \"she'd\", \"she'll\", \"she's\", 'should', 'shouldn', \"shouldn't\", \"should've\", 'so', 'some', 'such', 't', 'than', 'that', \"that'll\", 'the', 'their', 'theirs', 'them', 'themselves', 'then', 'there', 'these', 'they', \"they'd\", \"they'll\", \"they're\", \"they've\", 'this', 'those', 'through', 'to', 'too', 'under', 'until', 'up', 've', 'very', 'was', 'wasn', \"wasn't\", 'we', \"we'd\", \"we'll\", \"we're\", 'were', 'weren', \"weren't\", \"we've\", 'what', 'when', 'where', 'which', 'while', 'who', 'whom', 'why', 'will', 'with', 'won', \"won't\", 'wouldn', \"wouldn't\", 'y', 'you', \"you'd\", \"you'll\", 'your', \"you're\", 'yours', 'yourself', 'yourselves', \"you've\"]\n"
          ]
        }
      ],
      "source": [
        "# printing the stopwords\n",
        "print(stopwords.words('english'))"
      ]
    },
    {
      "cell_type": "markdown",
      "metadata": {
        "id": "Jz0CqyKdwAvw"
      },
      "source": [
        "# Step - 3\n",
        "### Data collection"
      ]
    },
    {
      "cell_type": "code",
      "execution_count": 104,
      "metadata": {
        "id": "poSFJObvv5XW"
      },
      "outputs": [],
      "source": [
        "# Define the file path to the ZIP file (uploaded in Google Colab)\n",
        "true_zip_path = \"/content/True.csv.zip\"\n",
        "fake_zip_path = \"/content/Fake.csv.zip\""
      ]
    },
    {
      "cell_type": "code",
      "execution_count": 105,
      "metadata": {
        "id": "CWphQZTNwQaz"
      },
      "outputs": [],
      "source": [
        "# Open the ZIP file using Python's zipfile module\n",
        "with zipfile.ZipFile(true_zip_path, 'r') as z:\n",
        "\n",
        "    # Open the CSV file inside the ZIP\n",
        "    with z.open(\"True.csv\") as true_file:\n",
        "\n",
        "        # Read the CSV into a DataFrame using pandas\n",
        "        real = pd.read_csv(true_file)\n",
        "\n",
        "        # Add a new column 'label' to indicate these are real news articles\n",
        "        # We'll use 1 for real news\n",
        "        real['label'] = 1"
      ]
    },
    {
      "cell_type": "code",
      "execution_count": 106,
      "metadata": {
        "id": "DPBV4nD6Ww6j"
      },
      "outputs": [],
      "source": [
        "# Read Fake.csv from Fake.csv.zip\n",
        "with zipfile.ZipFile(fake_zip_path, 'r') as z:\n",
        "    with z.open(\"Fake.csv\") as fake_file:\n",
        "        fake = pd.read_csv(fake_file)\n",
        "        fake['label'] = 0  # Fake news"
      ]
    },
    {
      "cell_type": "code",
      "execution_count": 107,
      "metadata": {
        "id": "KWpHD8ZgW1ji"
      },
      "outputs": [],
      "source": [
        "# Combine the real and fake DataFrames into one\n",
        "# We use ignore_index=True to reset the index automatically\n",
        "news_data = pd.concat([real, fake], ignore_index=True)\n",
        "\n",
        "# Shuffle the rows so that real and fake articles are mixed randomly\n",
        "# This helps prevent any order bias during model training\n",
        "# frac=1 means we\u2019re returning 100% of the data, just shuffled\n",
        "# random_state=42 ensures reproducibility (same shuffle every time)\n",
        "news_data = news_data.sample(frac=1, random_state=42).reset_index(drop=True)"
      ]
    },
    {
      "cell_type": "code",
      "execution_count": 108,
      "metadata": {
        "colab": {
          "base_uri": "https://localhost:8080/",
          "height": 379
        },
        "id": "H_orOy1bW36W",
        "outputId": "ab4b2364-3369-4c12-e992-8e469eb84f58"
      },
      "outputs": [
        {
          "data": {
            "application/vnd.google.colaboratory.intrinsic+json": {
              "summary": "{\n  \"name\": \"news_data\",\n  \"rows\": 44898,\n  \"fields\": [\n    {\n      \"column\": \"title\",\n      \"properties\": {\n        \"dtype\": \"string\",\n        \"num_unique_values\": 38729,\n        \"samples\": [\n          \" Nobody In Oregon Seems To Want The Bundy Militia There\",\n          \" The GOP Just Revealed What They REALLY Think About \\u2018National Security\\u2019\",\n          \"Mayors of NY and Los Angeles pledge to remain immigrant sanctuaries\"\n        ],\n        \"semantic_type\": \"\",\n        \"description\": \"\"\n      }\n    },\n    {\n      \"column\": \"text\",\n      \"properties\": {\n        \"dtype\": \"string\",\n        \"num_unique_values\": 38646,\n        \"samples\": [\n          \"At this point, there is no doubt that Vladimir Putin s Russian regime hacked the 2016 election, and they did it with one purpose: To elect Donald Trump President of the United States. Now that this effort has been successful, many Republicans are doing all they can to pretend that this isn t as serious as it is, since it benefits their party and chosen American leader. However, one American hero is FURIOUS with his fellow Republicans over their response to these Russian hacks, and that is former prisoner of war and Arizona Senator John McCain.Senator McCain appeared on CNN s State of the Union on Sunday morning, and had some very strong warnings for those who refuse to take the fact that Russia hacked our elections for the threat to this great republic that it is. McCain said to host Jake Tapper: This is the sign of a possible unraveling of the world order that was established after World War II, which has made one of the most peaceful periods in the history of the world. This is serious business. If they re able to harm the electoral process, they may destroy democracy, which is based on free and fair elections. Because of the gravity of this situation, McCain is going up against his fellow Republicans and calling for a special committee to investigate the activities of the Russians and especially Vladimir Putin, and insists that it must be done in a timely and bipartisan fashion, without regard for political gains or consequences. Thus far, McCain and South Carolina Senator Lindsey Graham are the only ones being forceful here, as the two most powerful Republicans in Congress, House Speaker Paul Ryan and Senate Majority Leader Mitch McConnell, are instead choosing to roll over for Donald Trump. However, McCain isn t letting up. He has written a letter to McConnell, signed by fellow Republican Senator Lindsey Graham, as well as Senate Minority Leader Chuck Schumer ( D-NY) and Democratic Senator Jack Reed (D-RI). The letter said, in part: Cyber is the rare kind of all-encompassing challenge for which the Congress s jurisdictional boundaries are an impediment to sufficient oversight and legislative action. Only a select committee that is time-limited, cross-jurisdictional, and purpose-driven can address the challenge of cyber,  the letter said.  We believe it is justified by the extraordinary scope and scale of the cyber problem. This is what bipartisan patriotism looks like. Direct threats to our democracy like what Russia has done is nothing to play with simply because it benefits one s own party. I never though I d say this, but why can t more Republicans be like John McCain and Lindsey Graham?McCain continued to Tapper: There s no doubt they were interfering and no doubt it was a cyber-attack. The question now is how much and what damage and what should the United States of America do? And so far, we ve been totally paralyzed. I m sure that when Vladimir Putin was told quote  cut it out  unquote, I m sure that Vladimir Putin immediately stopped all cyber-activities. The truth is, they are hacking every single day. So true. This is a threat that must be met head on, and with as much force as possible, party politics be damned. Our very way of life depends upon it.Watch McCain s remarks below:[ad3media campaign= 1398 ]Featured image via Chip Somodevilla/Getty Images\",\n          \"All we re hearing from the left is fear mongering about President Trump s budget. We love what welfare to work is coming back after Obama stripped it out of requirements to receive benefits. Food stamp enrollment exploded during Obama s 8 years in office to be 44 million recipients.The American taxpayers are footing the bill for those who take advantage of the system. Here s the TRUTH about what the Trump administration has proposed for food stamps:WORK REQUIREMENTS: In reality, the president s proposed policy is based on two principles: requiring able-bodied adult recipients to work or prepare for work in exchange for benefits, and restoring minimal fiscal responsibility to state governments for the welfare programs they operate.The president s budget reasserts the basic concept that welfare should not be a one-way handout. Welfare should, instead, be based on reciprocal obligations between recipients and taxpayers.SHIFTING MORE RESPONSIBILITY ON STATES:Why should the federal government pay for almost all of the freebies? Shifting the responsibility to the states will help with accountability. Perhaps some of the states will make a better effort to clean up the fraud that s so rampant in the system.Read more: Daily Signal\",\n          \"MADRID (Reuters) - The Spanish government could use constitutional powers to suspend Catalonia s autonomy and prevent the region from splitting from Spain, Prime Minister Mariano Rajoy said in an interview to newspaper El Pais published late on Saturday. Asked if he was ready to trigger the article 155 of the constitution, which enables him to sack the regional government and call a fresh local election, Rajoy answered:  I don t rule out absolutely anything that is within the law ... Ideally, it shouldn t be necessary to implement extreme solutions but for that not to happen things would have to be changed.  Rajoy also said he planned to leave in Catalonia the extra 4,000 police officers the government had shipped in to region for an independence vote on Oct. 1 until the crisis was over.  The conservative prime minister added he would not call a snap national election as a result of the political crisis and  ruled out using mediation to resolve it. \"\n        ],\n        \"semantic_type\": \"\",\n        \"description\": \"\"\n      }\n    },\n    {\n      \"column\": \"subject\",\n      \"properties\": {\n        \"dtype\": \"category\",\n        \"num_unique_values\": 8,\n        \"samples\": [\n          \"politicsNews\",\n          \"left-news\",\n          \"News\"\n        ],\n        \"semantic_type\": \"\",\n        \"description\": \"\"\n      }\n    },\n    {\n      \"column\": \"date\",\n      \"properties\": {\n        \"dtype\": \"category\",\n        \"num_unique_values\": 2397,\n        \"samples\": [\n          \"October 23, 2017 \",\n          \"November 11, 2016\",\n          \"March 7, 2017 \"\n        ],\n        \"semantic_type\": \"\",\n        \"description\": \"\"\n      }\n    },\n    {\n      \"column\": \"label\",\n      \"properties\": {\n        \"dtype\": \"number\",\n        \"std\": 0,\n        \"min\": 0,\n        \"max\": 1,\n        \"num_unique_values\": 2,\n        \"samples\": [\n          1,\n          0\n        ],\n        \"semantic_type\": \"\",\n        \"description\": \"\"\n      }\n    }\n  ]\n}",
              "type": "dataframe",
              "variable_name": "news_data"
            },
            "text/html": [
              "\n",
              "  <div id=\"df-e00246f6-4f3a-4d56-bc00-d468099a1a67\" class=\"colab-df-container\">\n",
              "    <div>\n",
              "<style scoped>\n",
              "    .dataframe tbody tr th:only-of-type {\n",
              "        vertical-align: middle;\n",
              "    }\n",
              "\n",
              "    .dataframe tbody tr th {\n",
              "        vertical-align: top;\n",
              "    }\n",
              "\n",
              "    .dataframe thead th {\n",
              "        text-align: right;\n",
              "    }\n",
              "</style>\n",
              "<table border=\"1\" class=\"dataframe\">\n",
              "  <thead>\n",
              "    <tr style=\"text-align: right;\">\n",
              "      <th></th>\n",
              "      <th>title</th>\n",
              "      <th>text</th>\n",
              "      <th>subject</th>\n",
              "      <th>date</th>\n",
              "      <th>label</th>\n",
              "    </tr>\n",
              "  </thead>\n",
              "  <tbody>\n",
              "    <tr>\n",
              "      <th>0</th>\n",
              "      <td>BREAKING: GOP Chairman Grassley Has Had Enoug...</td>\n",
              "      <td>Donald Trump s White House is in chaos, and th...</td>\n",
              "      <td>News</td>\n",
              "      <td>July 21, 2017</td>\n",
              "      <td>0</td>\n",
              "    </tr>\n",
              "    <tr>\n",
              "      <th>1</th>\n",
              "      <td>Failed GOP Candidates Remembered In Hilarious...</td>\n",
              "      <td>Now that Donald Trump is the presumptive GOP n...</td>\n",
              "      <td>News</td>\n",
              "      <td>May 7, 2016</td>\n",
              "      <td>0</td>\n",
              "    </tr>\n",
              "    <tr>\n",
              "      <th>2</th>\n",
              "      <td>Mike Pence\u2019s New DC Neighbors Are HILARIOUSLY...</td>\n",
              "      <td>Mike Pence is a huge homophobe. He supports ex...</td>\n",
              "      <td>News</td>\n",
              "      <td>December 3, 2016</td>\n",
              "      <td>0</td>\n",
              "    </tr>\n",
              "    <tr>\n",
              "      <th>3</th>\n",
              "      <td>California AG pledges to defend birth control ...</td>\n",
              "      <td>SAN FRANCISCO (Reuters) - California Attorney ...</td>\n",
              "      <td>politicsNews</td>\n",
              "      <td>October 6, 2017</td>\n",
              "      <td>1</td>\n",
              "    </tr>\n",
              "    <tr>\n",
              "      <th>4</th>\n",
              "      <td>AZ RANCHERS Living On US-Mexico Border Destroy...</td>\n",
              "      <td>Twisted reasoning is all that comes from Pelos...</td>\n",
              "      <td>politics</td>\n",
              "      <td>Apr 25, 2017</td>\n",
              "      <td>0</td>\n",
              "    </tr>\n",
              "  </tbody>\n",
              "</table>\n",
              "</div>\n",
              "    <div class=\"colab-df-buttons\">\n",
              "\n",
              "  <div class=\"colab-df-container\">\n",
              "    <button class=\"colab-df-convert\" onclick=\"convertToInteractive('df-e00246f6-4f3a-4d56-bc00-d468099a1a67')\"\n",
              "            title=\"Convert this dataframe to an interactive table.\"\n",
              "            style=\"display:none;\">\n",
              "\n",
              "  <svg xmlns=\"http://www.w3.org/2000/svg\" height=\"24px\" viewBox=\"0 -960 960 960\">\n",
              "    <path d=\"M120-120v-720h720v720H120Zm60-500h600v-160H180v160Zm220 220h160v-160H400v160Zm0 220h160v-160H400v160ZM180-400h160v-160H180v160Zm440 0h160v-160H620v160ZM180-180h160v-160H180v160Zm440 0h160v-160H620v160Z\"/>\n",
              "  </svg>\n",
              "    </button>\n",
              "\n",
              "  <style>\n",
              "    .colab-df-container {\n",
              "      display:flex;\n",
              "      gap: 12px;\n",
              "    }\n",
              "\n",
              "    .colab-df-convert {\n",
              "      background-color: #E8F0FE;\n",
              "      border: none;\n",
              "      border-radius: 50%;\n",
              "      cursor: pointer;\n",
              "      display: none;\n",
              "      fill: #1967D2;\n",
              "      height: 32px;\n",
              "      padding: 0 0 0 0;\n",
              "      width: 32px;\n",
              "    }\n",
              "\n",
              "    .colab-df-convert:hover {\n",
              "      background-color: #E2EBFA;\n",
              "      box-shadow: 0px 1px 2px rgba(60, 64, 67, 0.3), 0px 1px 3px 1px rgba(60, 64, 67, 0.15);\n",
              "      fill: #174EA6;\n",
              "    }\n",
              "\n",
              "    .colab-df-buttons div {\n",
              "      margin-bottom: 4px;\n",
              "    }\n",
              "\n",
              "    [theme=dark] .colab-df-convert {\n",
              "      background-color: #3B4455;\n",
              "      fill: #D2E3FC;\n",
              "    }\n",
              "\n",
              "    [theme=dark] .colab-df-convert:hover {\n",
              "      background-color: #434B5C;\n",
              "      box-shadow: 0px 1px 3px 1px rgba(0, 0, 0, 0.15);\n",
              "      filter: drop-shadow(0px 1px 2px rgba(0, 0, 0, 0.3));\n",
              "      fill: #FFFFFF;\n",
              "    }\n",
              "  </style>\n",
              "\n",
              "    <script>\n",
              "      const buttonEl =\n",
              "        document.querySelector('#df-e00246f6-4f3a-4d56-bc00-d468099a1a67 button.colab-df-convert');\n",
              "      buttonEl.style.display =\n",
              "        google.colab.kernel.accessAllowed ? 'block' : 'none';\n",
              "\n",
              "      async function convertToInteractive(key) {\n",
              "        const element = document.querySelector('#df-e00246f6-4f3a-4d56-bc00-d468099a1a67');\n",
              "        const dataTable =\n",
              "          await google.colab.kernel.invokeFunction('convertToInteractive',\n",
              "                                                    [key], {});\n",
              "        if (!dataTable) return;\n",
              "\n",
              "        const docLinkHtml = 'Like what you see? Visit the ' +\n",
              "          '<a target=\"_blank\" href=https://colab.research.google.com/notebooks/data_table.ipynb>data table notebook</a>'\n",
              "          + ' to learn more about interactive tables.';\n",
              "        element.innerHTML = '';\n",
              "        dataTable['output_type'] = 'display_data';\n",
              "        await google.colab.output.renderOutput(dataTable, element);\n",
              "        const docLink = document.createElement('div');\n",
              "        docLink.innerHTML = docLinkHtml;\n",
              "        element.appendChild(docLink);\n",
              "      }\n",
              "    </script>\n",
              "  </div>\n",
              "\n",
              "\n",
              "    <div id=\"df-645a95f1-1450-4122-9a17-1f6a25c674f9\">\n",
              "      <button class=\"colab-df-quickchart\" onclick=\"quickchart('df-645a95f1-1450-4122-9a17-1f6a25c674f9')\"\n",
              "                title=\"Suggest charts\"\n",
              "                style=\"display:none;\">\n",
              "\n",
              "<svg xmlns=\"http://www.w3.org/2000/svg\" height=\"24px\"viewBox=\"0 0 24 24\"\n",
              "     width=\"24px\">\n",
              "    <g>\n",
              "        <path d=\"M19 3H5c-1.1 0-2 .9-2 2v14c0 1.1.9 2 2 2h14c1.1 0 2-.9 2-2V5c0-1.1-.9-2-2-2zM9 17H7v-7h2v7zm4 0h-2V7h2v10zm4 0h-2v-4h2v4z\"/>\n",
              "    </g>\n",
              "</svg>\n",
              "      </button>\n",
              "\n",
              "<style>\n",
              "  .colab-df-quickchart {\n",
              "      --bg-color: #E8F0FE;\n",
              "      --fill-color: #1967D2;\n",
              "      --hover-bg-color: #E2EBFA;\n",
              "      --hover-fill-color: #174EA6;\n",
              "      --disabled-fill-color: #AAA;\n",
              "      --disabled-bg-color: #DDD;\n",
              "  }\n",
              "\n",
              "  [theme=dark] .colab-df-quickchart {\n",
              "      --bg-color: #3B4455;\n",
              "      --fill-color: #D2E3FC;\n",
              "      --hover-bg-color: #434B5C;\n",
              "      --hover-fill-color: #FFFFFF;\n",
              "      --disabled-bg-color: #3B4455;\n",
              "      --disabled-fill-color: #666;\n",
              "  }\n",
              "\n",
              "  .colab-df-quickchart {\n",
              "    background-color: var(--bg-color);\n",
              "    border: none;\n",
              "    border-radius: 50%;\n",
              "    cursor: pointer;\n",
              "    display: none;\n",
              "    fill: var(--fill-color);\n",
              "    height: 32px;\n",
              "    padding: 0;\n",
              "    width: 32px;\n",
              "  }\n",
              "\n",
              "  .colab-df-quickchart:hover {\n",
              "    background-color: var(--hover-bg-color);\n",
              "    box-shadow: 0 1px 2px rgba(60, 64, 67, 0.3), 0 1px 3px 1px rgba(60, 64, 67, 0.15);\n",
              "    fill: var(--button-hover-fill-color);\n",
              "  }\n",
              "\n",
              "  .colab-df-quickchart-complete:disabled,\n",
              "  .colab-df-quickchart-complete:disabled:hover {\n",
              "    background-color: var(--disabled-bg-color);\n",
              "    fill: var(--disabled-fill-color);\n",
              "    box-shadow: none;\n",
              "  }\n",
              "\n",
              "  .colab-df-spinner {\n",
              "    border: 2px solid var(--fill-color);\n",
              "    border-color: transparent;\n",
              "    border-bottom-color: var(--fill-color);\n",
              "    animation:\n",
              "      spin 1s steps(1) infinite;\n",
              "  }\n",
              "\n",
              "  @keyframes spin {\n",
              "    0% {\n",
              "      border-color: transparent;\n",
              "      border-bottom-color: var(--fill-color);\n",
              "      border-left-color: var(--fill-color);\n",
              "    }\n",
              "    20% {\n",
              "      border-color: transparent;\n",
              "      border-left-color: var(--fill-color);\n",
              "      border-top-color: var(--fill-color);\n",
              "    }\n",
              "    30% {\n",
              "      border-color: transparent;\n",
              "      border-left-color: var(--fill-color);\n",
              "      border-top-color: var(--fill-color);\n",
              "      border-right-color: var(--fill-color);\n",
              "    }\n",
              "    40% {\n",
              "      border-color: transparent;\n",
              "      border-right-color: var(--fill-color);\n",
              "      border-top-color: var(--fill-color);\n",
              "    }\n",
              "    60% {\n",
              "      border-color: transparent;\n",
              "      border-right-color: var(--fill-color);\n",
              "    }\n",
              "    80% {\n",
              "      border-color: transparent;\n",
              "      border-right-color: var(--fill-color);\n",
              "      border-bottom-color: var(--fill-color);\n",
              "    }\n",
              "    90% {\n",
              "      border-color: transparent;\n",
              "      border-bottom-color: var(--fill-color);\n",
              "    }\n",
              "  }\n",
              "</style>\n",
              "\n",
              "      <script>\n",
              "        async function quickchart(key) {\n",
              "          const quickchartButtonEl =\n",
              "            document.querySelector('#' + key + ' button');\n",
              "          quickchartButtonEl.disabled = true;  // To prevent multiple clicks.\n",
              "          quickchartButtonEl.classList.add('colab-df-spinner');\n",
              "          try {\n",
              "            const charts = await google.colab.kernel.invokeFunction(\n",
              "                'suggestCharts', [key], {});\n",
              "          } catch (error) {\n",
              "            console.error('Error during call to suggestCharts:', error);\n",
              "          }\n",
              "          quickchartButtonEl.classList.remove('colab-df-spinner');\n",
              "          quickchartButtonEl.classList.add('colab-df-quickchart-complete');\n",
              "        }\n",
              "        (() => {\n",
              "          let quickchartButtonEl =\n",
              "            document.querySelector('#df-645a95f1-1450-4122-9a17-1f6a25c674f9 button');\n",
              "          quickchartButtonEl.style.display =\n",
              "            google.colab.kernel.accessAllowed ? 'block' : 'none';\n",
              "        })();\n",
              "      </script>\n",
              "    </div>\n",
              "\n",
              "    </div>\n",
              "  </div>\n"
            ],
            "text/plain": [
              "                                               title  \\\n",
              "0   BREAKING: GOP Chairman Grassley Has Had Enoug...   \n",
              "1   Failed GOP Candidates Remembered In Hilarious...   \n",
              "2   Mike Pence\u2019s New DC Neighbors Are HILARIOUSLY...   \n",
              "3  California AG pledges to defend birth control ...   \n",
              "4  AZ RANCHERS Living On US-Mexico Border Destroy...   \n",
              "\n",
              "                                                text       subject  \\\n",
              "0  Donald Trump s White House is in chaos, and th...          News   \n",
              "1  Now that Donald Trump is the presumptive GOP n...          News   \n",
              "2  Mike Pence is a huge homophobe. He supports ex...          News   \n",
              "3  SAN FRANCISCO (Reuters) - California Attorney ...  politicsNews   \n",
              "4  Twisted reasoning is all that comes from Pelos...      politics   \n",
              "\n",
              "               date  label  \n",
              "0     July 21, 2017      0  \n",
              "1       May 7, 2016      0  \n",
              "2  December 3, 2016      0  \n",
              "3  October 6, 2017       1  \n",
              "4      Apr 25, 2017      0  "
            ]
          },
          "execution_count": 108,
          "metadata": {},
          "output_type": "execute_result"
        }
      ],
      "source": [
        "# Print first few rows of the data\n",
        "news_data.head()"
      ]
    },
    {
      "cell_type": "code",
      "execution_count": 109,
      "metadata": {
        "colab": {
          "base_uri": "https://localhost:8080/"
        },
        "id": "FiboNNokwV1f",
        "outputId": "e40e930d-bed3-4910-98ef-8c904ef349e3"
      },
      "outputs": [
        {
          "data": {
            "text/plain": [
              "(44898, 5)"
            ]
          },
          "execution_count": 109,
          "metadata": {},
          "output_type": "execute_result"
        }
      ],
      "source": [
        "# print the dimensions of our dataset (rows , columns)\n",
        "news_data.shape"
      ]
    },
    {
      "cell_type": "code",
      "execution_count": 110,
      "metadata": {
        "colab": {
          "base_uri": "https://localhost:8080/"
        },
        "id": "iJn0e5m5XBhU",
        "outputId": "d72f83a1-767a-4cc6-8f1f-2999d027614e"
      },
      "outputs": [
        {
          "name": "stdout",
          "output_type": "stream",
          "text": [
            "label\n",
            "0    23481\n",
            "1    21417\n",
            "Name: count, dtype: int64\n"
          ]
        }
      ],
      "source": [
        "# Count the number of real (1) and fake (0) news articles in the dataset\n",
        "# This helps check for class balance before training\n",
        "print(news_data['label'].value_counts())"
      ]
    },
    {
      "cell_type": "code",
      "execution_count": 111,
      "metadata": {
        "colab": {
          "base_uri": "https://localhost:8080/",
          "height": 241
        },
        "id": "1Fn8bpucwgUj",
        "outputId": "3e864c3c-9399-41e7-c181-f403355bbe95"
      },
      "outputs": [
        {
          "data": {
            "text/html": [
              "<div>\n",
              "<style scoped>\n",
              "    .dataframe tbody tr th:only-of-type {\n",
              "        vertical-align: middle;\n",
              "    }\n",
              "\n",
              "    .dataframe tbody tr th {\n",
              "        vertical-align: top;\n",
              "    }\n",
              "\n",
              "    .dataframe thead th {\n",
              "        text-align: right;\n",
              "    }\n",
              "</style>\n",
              "<table border=\"1\" class=\"dataframe\">\n",
              "  <thead>\n",
              "    <tr style=\"text-align: right;\">\n",
              "      <th></th>\n",
              "      <th>0</th>\n",
              "    </tr>\n",
              "  </thead>\n",
              "  <tbody>\n",
              "    <tr>\n",
              "      <th>title</th>\n",
              "      <td>0</td>\n",
              "    </tr>\n",
              "    <tr>\n",
              "      <th>text</th>\n",
              "      <td>0</td>\n",
              "    </tr>\n",
              "    <tr>\n",
              "      <th>subject</th>\n",
              "      <td>0</td>\n",
              "    </tr>\n",
              "    <tr>\n",
              "      <th>date</th>\n",
              "      <td>0</td>\n",
              "    </tr>\n",
              "    <tr>\n",
              "      <th>label</th>\n",
              "      <td>0</td>\n",
              "    </tr>\n",
              "  </tbody>\n",
              "</table>\n",
              "</div><br><label><b>dtype:</b> int64</label>"
            ],
            "text/plain": [
              "title      0\n",
              "text       0\n",
              "subject    0\n",
              "date       0\n",
              "label      0\n",
              "dtype: int64"
            ]
          },
          "execution_count": 111,
          "metadata": {},
          "output_type": "execute_result"
        }
      ],
      "source": [
        "# checking for missing values in dataset\n",
        "news_data.isnull().sum()"
      ]
    },
    {
      "cell_type": "code",
      "execution_count": 112,
      "metadata": {
        "id": "j2_43PzGxZNu"
      },
      "outputs": [],
      "source": [
        "# Combine multiple useful columns into a single text feature\n",
        "news_data['content'] = news_data['title'] + \" \" + news_data['text']+ \" \" + news_data['subject']"
      ]
    },
    {
      "cell_type": "code",
      "execution_count": 113,
      "metadata": {
        "colab": {
          "base_uri": "https://localhost:8080/",
          "height": 536
        },
        "id": "riYGtYjKxbSU",
        "outputId": "2d191f25-8b75-447a-a555-cc3c65b1f791"
      },
      "outputs": [
        {
          "data": {
            "application/vnd.google.colaboratory.intrinsic+json": {
              "summary": "{\n  \"name\": \"news_data\",\n  \"rows\": 44898,\n  \"fields\": [\n    {\n      \"column\": \"title\",\n      \"properties\": {\n        \"dtype\": \"string\",\n        \"num_unique_values\": 38729,\n        \"samples\": [\n          \" Nobody In Oregon Seems To Want The Bundy Militia There\",\n          \" The GOP Just Revealed What They REALLY Think About \\u2018National Security\\u2019\",\n          \"Mayors of NY and Los Angeles pledge to remain immigrant sanctuaries\"\n        ],\n        \"semantic_type\": \"\",\n        \"description\": \"\"\n      }\n    },\n    {\n      \"column\": \"text\",\n      \"properties\": {\n        \"dtype\": \"string\",\n        \"num_unique_values\": 38646,\n        \"samples\": [\n          \"At this point, there is no doubt that Vladimir Putin s Russian regime hacked the 2016 election, and they did it with one purpose: To elect Donald Trump President of the United States. Now that this effort has been successful, many Republicans are doing all they can to pretend that this isn t as serious as it is, since it benefits their party and chosen American leader. However, one American hero is FURIOUS with his fellow Republicans over their response to these Russian hacks, and that is former prisoner of war and Arizona Senator John McCain.Senator McCain appeared on CNN s State of the Union on Sunday morning, and had some very strong warnings for those who refuse to take the fact that Russia hacked our elections for the threat to this great republic that it is. McCain said to host Jake Tapper: This is the sign of a possible unraveling of the world order that was established after World War II, which has made one of the most peaceful periods in the history of the world. This is serious business. If they re able to harm the electoral process, they may destroy democracy, which is based on free and fair elections. Because of the gravity of this situation, McCain is going up against his fellow Republicans and calling for a special committee to investigate the activities of the Russians and especially Vladimir Putin, and insists that it must be done in a timely and bipartisan fashion, without regard for political gains or consequences. Thus far, McCain and South Carolina Senator Lindsey Graham are the only ones being forceful here, as the two most powerful Republicans in Congress, House Speaker Paul Ryan and Senate Majority Leader Mitch McConnell, are instead choosing to roll over for Donald Trump. However, McCain isn t letting up. He has written a letter to McConnell, signed by fellow Republican Senator Lindsey Graham, as well as Senate Minority Leader Chuck Schumer ( D-NY) and Democratic Senator Jack Reed (D-RI). The letter said, in part: Cyber is the rare kind of all-encompassing challenge for which the Congress s jurisdictional boundaries are an impediment to sufficient oversight and legislative action. Only a select committee that is time-limited, cross-jurisdictional, and purpose-driven can address the challenge of cyber,  the letter said.  We believe it is justified by the extraordinary scope and scale of the cyber problem. This is what bipartisan patriotism looks like. Direct threats to our democracy like what Russia has done is nothing to play with simply because it benefits one s own party. I never though I d say this, but why can t more Republicans be like John McCain and Lindsey Graham?McCain continued to Tapper: There s no doubt they were interfering and no doubt it was a cyber-attack. The question now is how much and what damage and what should the United States of America do? And so far, we ve been totally paralyzed. I m sure that when Vladimir Putin was told quote  cut it out  unquote, I m sure that Vladimir Putin immediately stopped all cyber-activities. The truth is, they are hacking every single day. So true. This is a threat that must be met head on, and with as much force as possible, party politics be damned. Our very way of life depends upon it.Watch McCain s remarks below:[ad3media campaign= 1398 ]Featured image via Chip Somodevilla/Getty Images\",\n          \"All we re hearing from the left is fear mongering about President Trump s budget. We love what welfare to work is coming back after Obama stripped it out of requirements to receive benefits. Food stamp enrollment exploded during Obama s 8 years in office to be 44 million recipients.The American taxpayers are footing the bill for those who take advantage of the system. Here s the TRUTH about what the Trump administration has proposed for food stamps:WORK REQUIREMENTS: In reality, the president s proposed policy is based on two principles: requiring able-bodied adult recipients to work or prepare for work in exchange for benefits, and restoring minimal fiscal responsibility to state governments for the welfare programs they operate.The president s budget reasserts the basic concept that welfare should not be a one-way handout. Welfare should, instead, be based on reciprocal obligations between recipients and taxpayers.SHIFTING MORE RESPONSIBILITY ON STATES:Why should the federal government pay for almost all of the freebies? Shifting the responsibility to the states will help with accountability. Perhaps some of the states will make a better effort to clean up the fraud that s so rampant in the system.Read more: Daily Signal\",\n          \"MADRID (Reuters) - The Spanish government could use constitutional powers to suspend Catalonia s autonomy and prevent the region from splitting from Spain, Prime Minister Mariano Rajoy said in an interview to newspaper El Pais published late on Saturday. Asked if he was ready to trigger the article 155 of the constitution, which enables him to sack the regional government and call a fresh local election, Rajoy answered:  I don t rule out absolutely anything that is within the law ... Ideally, it shouldn t be necessary to implement extreme solutions but for that not to happen things would have to be changed.  Rajoy also said he planned to leave in Catalonia the extra 4,000 police officers the government had shipped in to region for an independence vote on Oct. 1 until the crisis was over.  The conservative prime minister added he would not call a snap national election as a result of the political crisis and  ruled out using mediation to resolve it. \"\n        ],\n        \"semantic_type\": \"\",\n        \"description\": \"\"\n      }\n    },\n    {\n      \"column\": \"subject\",\n      \"properties\": {\n        \"dtype\": \"category\",\n        \"num_unique_values\": 8,\n        \"samples\": [\n          \"politicsNews\",\n          \"left-news\",\n          \"News\"\n        ],\n        \"semantic_type\": \"\",\n        \"description\": \"\"\n      }\n    },\n    {\n      \"column\": \"date\",\n      \"properties\": {\n        \"dtype\": \"category\",\n        \"num_unique_values\": 2397,\n        \"samples\": [\n          \"October 23, 2017 \",\n          \"November 11, 2016\",\n          \"March 7, 2017 \"\n        ],\n        \"semantic_type\": \"\",\n        \"description\": \"\"\n      }\n    },\n    {\n      \"column\": \"label\",\n      \"properties\": {\n        \"dtype\": \"number\",\n        \"std\": 0,\n        \"min\": 0,\n        \"max\": 1,\n        \"num_unique_values\": 2,\n        \"samples\": [\n          1,\n          0\n        ],\n        \"semantic_type\": \"\",\n        \"description\": \"\"\n      }\n    },\n    {\n      \"column\": \"content\",\n      \"properties\": {\n        \"dtype\": \"string\",\n        \"num_unique_values\": 44685,\n        \"samples\": [\n          \"Factbox: Trump fills top jobs for his administration (Reuters) - President-elect Donald Trump will nominate high-frequency trading expert Vincent Viola to be secretary of the Army, a senior transition official said on Monday. Below is a list of Republican Trump\\u2019s selections for top jobs in his administration. Senate confirmation is required for all the posts except national security adviser, White House chief of staff, White House director of the National Economic Council and White House strategist. Tillerson, 64, has spent his entire career at Exxon Mobil Corp, where he rose to serve as its chairman and CEO in 2006. A civil engineer by training, the Texan joined the world\\u2019s largest energy company in 1975 and led several of its operations in the United States as well as in Yemen, Thailand and Russia. As Exxon\\u2019s chief executive, he maintained close ties with Moscow and opposed U.S. sanctions against Russia for its incursion into Crimea. Mnuchin, 53, is a successful private equity investor, hedge fund manager and Hollywood financier who spent 17 years at Goldman Sachs before leaving in 2002. He assembled an investor group to buy a failed California mortgage lender in 2009, rebranded it as OneWest Bank and built it into Southern California\\u2019s largest bank. Housing advocacy groups criticized the bank for its foreclosure practices, accusing it of being too quick to foreclose on struggling homeowners. Mattis is a retired Marine general known for his tough talk, distrust of Iran and battlefield experience in Iraq and Afghanistan. A former leader of Central Command, which oversees U.S. military operations in the Middle East and South Asia, Mattis, 66, is known by many U.S. forces by his nickname \\u201cMad Dog.\\u201d He was in 2005 rebuked for saying: \\u201cIt\\u2019s fun to shoot some people.\\u201d Sessions, 69, was the first U.S. senator to endorse Trump\\u2019s presidential bid and has been a close ally since. Son of a country store owner, the Alabama senator and former federal prosecutor has long taken a tough stance on illegal immigration, opposing any path to citizenship for undocumented immigrants.  Zinke, 55, a first-term Republican representative and a member of the House subcommittee on natural resources, has voted for legislation that would weaken environmental safeguards on public lands. He has taken stances favoring coal, which suffered during the Obama administration. The League of Conservation Voters, which ranks lawmakers on their environmental record, gave Zinke an extremely low lifetime score of 3 percent. Ross, 79, heads the private equity firm W.L. Ross & Co and Forbes has pegged his net worth at about $2.9 billion. A staunch supporter of Trump, Ross helped shape the Trump campaign\\u2019s views on trade policy. He blames the North American Free Trade Agreement with Canada and Mexico, which went into force in 1994, and the 2001 entry of China into the World Trade Organization, for causing massive U.S. factory job losses.               Puzder, chief executive officer of CKE Restaurants Inc [APOLOT.UL], which runs the Carl\\u2019s Jr. and Hardee\\u2019s fast-food chains, has been a vociferous critic of government regulation of the workplace and the National Labor Relations Board. Puzder, 66, has argued that higher minimum wages would hurt workers by forcing restaurants to close and praises the benefits of automation, so his appointment is likely to antagonize organized labor.  U.S. Representative Price, 62, is an orthopedic surgeon who heads the House Budget Committee. A representative from Georgia since 2005, Price has criticized Obamacare and has championed a plan of tax credits, expanded health savings accounts and lawsuit reforms to replace it. He is opposed to abortion. Carson, 65, is a retired neurosurgeon who dropped out of the Republican presidential nominating race in March and threw his support to Trump. A popular writer and speaker in conservative circles, Carson previously indicated reluctance to take a position in the incoming administration because of his lack of experience in the federal government. Carson is the first African-American picked for a Cabinet spot by Trump. Chao, 63, was labor secretary under President George W. Bush for eight years and the first Asian-American woman to hold a Cabinet position. She is a director at Ingersoll Rand, News Corp and Vulcan Materials Co. She is married to U.S. Senate Majority Leader Mitch McConnell, a Republican from Kentucky. Perry, 66, adds to the list of oil drilling advocates skeptical about climate change who have been picked for senior positions in Trump\\u2019s Cabinet. The selections have worried environmentalists but cheered an oil and gas industry eager for expansion. Perry, who also briefly ran in the 2016 presidential race, would be responsible for U.S. energy policy and oversee the nation\\u2019s nuclear weapons program.  DeVos, 58, is a billionaire Republican donor, a former chair of the Michigan Republican Party and an advocate for the privatization of education. As chair of the American Federation for Children, she has pushed at the state level for vouchers that families can use to send their children to private schools and for expansion of charter schools. The final leadership role of Kelly\\u2019s 45-year military career was head of the U.S. Southern Command, responsible for U.S. military activities and relationships in Latin America and the Caribbean. The 66-year-old retired Marine general differed with Obama on key issues and has warned of vulnerabilities along the United States\\u2019 southern border with Mexico. Recently re-elected to serve as Republican National Committee chairman, Priebus will give up his party post to join Trump in the White House, where the low-key Washington operative could help forge ties with Congress to advance Trump\\u2019s agenda. Priebus, 44, was a steadfast supporter of Trump during the presidential campaign even as the party fractured amid the choice. ENVIRONMENTAL PROTECTION AGENCY ADMINISTRATOR: SCOTT PRUITT An ardent opponent of President Barack Obama\\u2019s measures to stem climate change, Oklahoma Attorney General Pruitt, 48, has enraged environmental activists. But he fits with the president-elect\\u2019s promise to cut the agency back and eliminate regulation that he says is stifling oil and gas drilling. Pruitt became the top state prosecutor for Oklahoma, which has extensive oil reserves, in 2011 and has challenged the EPA multiple times since. U.S. Representative Mick Mulvaney, 49, a South Carolina Republican, is a fiscal conservative. He was an outspoken critic of former House of Representatives Speaker John Boehner, who resigned in 2015 amid opposition from fellow Republicans who were members of the House Freedom Caucus. Mulvaney was first elected to Congress in 2010. Haley, 44, has been the Republican governor of South Carolina since 2011 and has little experience in foreign policy or the federal government. The daughter of Indian immigrants, she led a successful push last year to remove the Confederate battle flag from the grounds of the South Carolina state capitol after the killing of nine black churchgoers in Charleston by a white gunman. McMahon, 68, is a co-founder and former chief executive of the professional wrestling franchise WWE, which is based in Stamford, Connecticut. She ran unsuccessfully as a Republican for a U.S. Senate seat in Connecticut in 2010 and 2012 and was an early supporter of Trump\\u2019s presidential campaign. U.S. Representative Pompeo, 52, is a third-term congressman from Kansas who serves on the House of Representatives Intelligence Committee, which oversees the CIA, National Security Agency and cyber security. A retired Army officer and Harvard Law School graduate, Pompeo supports the U.S. government\\u2019s sweeping collection of Americans\\u2019 communications data and wants to scrap the nuclear deal with Iran.     Cohn, 56, president and chief operating officer of investment bank Goldman Sachs, had widely been considered heir apparent to Lloyd Blankfein, CEO of the Wall Street firm. Trump hammered Goldman and Blankfein during the presidential campaign, releasing a television ad that called Blankfein part of a \\u201cglobal power structure\\u201d that had robbed America\\u2019s working class. Retired Lieutenant General Flynn, 57, was an early Trump supporter and serves as vice chairman on his transition team. He began his Army career in 1981 and was deployed in Afghanistan and Iraq. Flynn became head of the Defense Intelligence Agency in 2012 under President Barack Obama but retired a year earlier than expected, according to media reports, and became a fierce critic of Obama\\u2019s foreign policy. Viola, 60, is a West Point graduate and U.S. Army veteran who served in the 101st Airborne Division. He founded high-frequency trading firm Virtu Financial Inc and served as  chairman of the New York Mercantile Exchange, where he began his financial services career. After the Sept. 11, 2001, al Qaeda attacks on New York and Washington, Viola helped found the Combating Terrorism Center at the U.S. Military Academy at West Point. He is an owner of the Florida Panthers ice hockey team. CHIEF WHITE HOUSE STRATEGIST, SENIOR COUNSELOR: STEVE BANNON The former head of the conservative website Breitbart News came aboard as Trump\\u2019s campaign chairman in August. A rabble-rousing conservative media figure, he helped shift Breitbart into a forum for the alt-right, a loose confederation of those who reject mainstream politics and includes neo-Nazis, white supremacists and anti-Semites. His hiring signals Trump\\u2019s dedication to operating outside the norms of Washington. As White House chief of staff, Bannon, 63, will serve as Trump\\u2019s gatekeeper and agenda-setter.  politicsNews\",\n          \"German defense minister says troop withdrawal from Afghanistan too rapid MAZAR-I-SHARIF, Afghanistan (Reuters) - German Defence Minister Ursula von der Leyen on Monday said the withdrawal of international troops from Afghanistan in recent years had been too rapid and she called for a longer-term commitment in the Hindu Kush mountain range. Visiting troops in the northern city of Mazar-i-Sharif, von der Leyen criticized the rapid reduction in forces since the NATO-led International Security Assistance Force (ISAF) ended its mission in Afghanistan in 2014 but said the international community had now learned it needed to be more patient.  I haven t forgotten how it was at the beginning when we got out of ISAF too quickly with too big a reduction in troop numbers,  she said, adding that everyone knew the security situation in Afghanistan remained tense. She said Afghans continued to need support, advice and training from foreign soldiers, adding:  There s still a lot to do but I m convinced that we re going in the right direction with our mission there.   We ll need to have a lot of stamina - Afghanistan will occupy us for a long time yet,  von der Leyen said. U.S. President Donald Trump announced a new open-ended policy toward Afghanistan in August, authorizing an increase in U.S. troop numbers to advise and train Afghan security forces and conduct counter-terrorism operations, with the aim of reversing territorial gains by Taliban insurgents and compelling them to agree to peace talks. At the peak of the ISAF mission around 150,000 foreign soldiers were deployed in Hindu Kush compared with around 17,000 now - of which 10,000 are Americans. U.S. officials are pressing Germany to send more troops to Afghanistan as part of the increased international presence but say they do not expect any decisions until after the formation of a new German government. The German parliament voted last week to extend by three months Germany s military support for the Afghanistan mission to allow a new government to consider a longer-term extension.  worldnews\"\n        ],\n        \"semantic_type\": \"\",\n        \"description\": \"\"\n      }\n    }\n  ]\n}",
              "type": "dataframe",
              "variable_name": "news_data"
            },
            "text/html": [
              "\n",
              "  <div id=\"df-dc70619d-3e98-4656-8d31-ef94b2f776b9\" class=\"colab-df-container\">\n",
              "    <div>\n",
              "<style scoped>\n",
              "    .dataframe tbody tr th:only-of-type {\n",
              "        vertical-align: middle;\n",
              "    }\n",
              "\n",
              "    .dataframe tbody tr th {\n",
              "        vertical-align: top;\n",
              "    }\n",
              "\n",
              "    .dataframe thead th {\n",
              "        text-align: right;\n",
              "    }\n",
              "</style>\n",
              "<table border=\"1\" class=\"dataframe\">\n",
              "  <thead>\n",
              "    <tr style=\"text-align: right;\">\n",
              "      <th></th>\n",
              "      <th>title</th>\n",
              "      <th>text</th>\n",
              "      <th>subject</th>\n",
              "      <th>date</th>\n",
              "      <th>label</th>\n",
              "      <th>content</th>\n",
              "    </tr>\n",
              "  </thead>\n",
              "  <tbody>\n",
              "    <tr>\n",
              "      <th>0</th>\n",
              "      <td>BREAKING: GOP Chairman Grassley Has Had Enoug...</td>\n",
              "      <td>Donald Trump s White House is in chaos, and th...</td>\n",
              "      <td>News</td>\n",
              "      <td>July 21, 2017</td>\n",
              "      <td>0</td>\n",
              "      <td>BREAKING: GOP Chairman Grassley Has Had Enoug...</td>\n",
              "    </tr>\n",
              "    <tr>\n",
              "      <th>1</th>\n",
              "      <td>Failed GOP Candidates Remembered In Hilarious...</td>\n",
              "      <td>Now that Donald Trump is the presumptive GOP n...</td>\n",
              "      <td>News</td>\n",
              "      <td>May 7, 2016</td>\n",
              "      <td>0</td>\n",
              "      <td>Failed GOP Candidates Remembered In Hilarious...</td>\n",
              "    </tr>\n",
              "    <tr>\n",
              "      <th>2</th>\n",
              "      <td>Mike Pence\u2019s New DC Neighbors Are HILARIOUSLY...</td>\n",
              "      <td>Mike Pence is a huge homophobe. He supports ex...</td>\n",
              "      <td>News</td>\n",
              "      <td>December 3, 2016</td>\n",
              "      <td>0</td>\n",
              "      <td>Mike Pence\u2019s New DC Neighbors Are HILARIOUSLY...</td>\n",
              "    </tr>\n",
              "    <tr>\n",
              "      <th>3</th>\n",
              "      <td>California AG pledges to defend birth control ...</td>\n",
              "      <td>SAN FRANCISCO (Reuters) - California Attorney ...</td>\n",
              "      <td>politicsNews</td>\n",
              "      <td>October 6, 2017</td>\n",
              "      <td>1</td>\n",
              "      <td>California AG pledges to defend birth control ...</td>\n",
              "    </tr>\n",
              "    <tr>\n",
              "      <th>4</th>\n",
              "      <td>AZ RANCHERS Living On US-Mexico Border Destroy...</td>\n",
              "      <td>Twisted reasoning is all that comes from Pelos...</td>\n",
              "      <td>politics</td>\n",
              "      <td>Apr 25, 2017</td>\n",
              "      <td>0</td>\n",
              "      <td>AZ RANCHERS Living On US-Mexico Border Destroy...</td>\n",
              "    </tr>\n",
              "  </tbody>\n",
              "</table>\n",
              "</div>\n",
              "    <div class=\"colab-df-buttons\">\n",
              "\n",
              "  <div class=\"colab-df-container\">\n",
              "    <button class=\"colab-df-convert\" onclick=\"convertToInteractive('df-dc70619d-3e98-4656-8d31-ef94b2f776b9')\"\n",
              "            title=\"Convert this dataframe to an interactive table.\"\n",
              "            style=\"display:none;\">\n",
              "\n",
              "  <svg xmlns=\"http://www.w3.org/2000/svg\" height=\"24px\" viewBox=\"0 -960 960 960\">\n",
              "    <path d=\"M120-120v-720h720v720H120Zm60-500h600v-160H180v160Zm220 220h160v-160H400v160Zm0 220h160v-160H400v160ZM180-400h160v-160H180v160Zm440 0h160v-160H620v160ZM180-180h160v-160H180v160Zm440 0h160v-160H620v160Z\"/>\n",
              "  </svg>\n",
              "    </button>\n",
              "\n",
              "  <style>\n",
              "    .colab-df-container {\n",
              "      display:flex;\n",
              "      gap: 12px;\n",
              "    }\n",
              "\n",
              "    .colab-df-convert {\n",
              "      background-color: #E8F0FE;\n",
              "      border: none;\n",
              "      border-radius: 50%;\n",
              "      cursor: pointer;\n",
              "      display: none;\n",
              "      fill: #1967D2;\n",
              "      height: 32px;\n",
              "      padding: 0 0 0 0;\n",
              "      width: 32px;\n",
              "    }\n",
              "\n",
              "    .colab-df-convert:hover {\n",
              "      background-color: #E2EBFA;\n",
              "      box-shadow: 0px 1px 2px rgba(60, 64, 67, 0.3), 0px 1px 3px 1px rgba(60, 64, 67, 0.15);\n",
              "      fill: #174EA6;\n",
              "    }\n",
              "\n",
              "    .colab-df-buttons div {\n",
              "      margin-bottom: 4px;\n",
              "    }\n",
              "\n",
              "    [theme=dark] .colab-df-convert {\n",
              "      background-color: #3B4455;\n",
              "      fill: #D2E3FC;\n",
              "    }\n",
              "\n",
              "    [theme=dark] .colab-df-convert:hover {\n",
              "      background-color: #434B5C;\n",
              "      box-shadow: 0px 1px 3px 1px rgba(0, 0, 0, 0.15);\n",
              "      filter: drop-shadow(0px 1px 2px rgba(0, 0, 0, 0.3));\n",
              "      fill: #FFFFFF;\n",
              "    }\n",
              "  </style>\n",
              "\n",
              "    <script>\n",
              "      const buttonEl =\n",
              "        document.querySelector('#df-dc70619d-3e98-4656-8d31-ef94b2f776b9 button.colab-df-convert');\n",
              "      buttonEl.style.display =\n",
              "        google.colab.kernel.accessAllowed ? 'block' : 'none';\n",
              "\n",
              "      async function convertToInteractive(key) {\n",
              "        const element = document.querySelector('#df-dc70619d-3e98-4656-8d31-ef94b2f776b9');\n",
              "        const dataTable =\n",
              "          await google.colab.kernel.invokeFunction('convertToInteractive',\n",
              "                                                    [key], {});\n",
              "        if (!dataTable) return;\n",
              "\n",
              "        const docLinkHtml = 'Like what you see? Visit the ' +\n",
              "          '<a target=\"_blank\" href=https://colab.research.google.com/notebooks/data_table.ipynb>data table notebook</a>'\n",
              "          + ' to learn more about interactive tables.';\n",
              "        element.innerHTML = '';\n",
              "        dataTable['output_type'] = 'display_data';\n",
              "        await google.colab.output.renderOutput(dataTable, element);\n",
              "        const docLink = document.createElement('div');\n",
              "        docLink.innerHTML = docLinkHtml;\n",
              "        element.appendChild(docLink);\n",
              "      }\n",
              "    </script>\n",
              "  </div>\n",
              "\n",
              "\n",
              "    <div id=\"df-47062eb4-afcc-4ac2-89a6-6aa15f8c60be\">\n",
              "      <button class=\"colab-df-quickchart\" onclick=\"quickchart('df-47062eb4-afcc-4ac2-89a6-6aa15f8c60be')\"\n",
              "                title=\"Suggest charts\"\n",
              "                style=\"display:none;\">\n",
              "\n",
              "<svg xmlns=\"http://www.w3.org/2000/svg\" height=\"24px\"viewBox=\"0 0 24 24\"\n",
              "     width=\"24px\">\n",
              "    <g>\n",
              "        <path d=\"M19 3H5c-1.1 0-2 .9-2 2v14c0 1.1.9 2 2 2h14c1.1 0 2-.9 2-2V5c0-1.1-.9-2-2-2zM9 17H7v-7h2v7zm4 0h-2V7h2v10zm4 0h-2v-4h2v4z\"/>\n",
              "    </g>\n",
              "</svg>\n",
              "      </button>\n",
              "\n",
              "<style>\n",
              "  .colab-df-quickchart {\n",
              "      --bg-color: #E8F0FE;\n",
              "      --fill-color: #1967D2;\n",
              "      --hover-bg-color: #E2EBFA;\n",
              "      --hover-fill-color: #174EA6;\n",
              "      --disabled-fill-color: #AAA;\n",
              "      --disabled-bg-color: #DDD;\n",
              "  }\n",
              "\n",
              "  [theme=dark] .colab-df-quickchart {\n",
              "      --bg-color: #3B4455;\n",
              "      --fill-color: #D2E3FC;\n",
              "      --hover-bg-color: #434B5C;\n",
              "      --hover-fill-color: #FFFFFF;\n",
              "      --disabled-bg-color: #3B4455;\n",
              "      --disabled-fill-color: #666;\n",
              "  }\n",
              "\n",
              "  .colab-df-quickchart {\n",
              "    background-color: var(--bg-color);\n",
              "    border: none;\n",
              "    border-radius: 50%;\n",
              "    cursor: pointer;\n",
              "    display: none;\n",
              "    fill: var(--fill-color);\n",
              "    height: 32px;\n",
              "    padding: 0;\n",
              "    width: 32px;\n",
              "  }\n",
              "\n",
              "  .colab-df-quickchart:hover {\n",
              "    background-color: var(--hover-bg-color);\n",
              "    box-shadow: 0 1px 2px rgba(60, 64, 67, 0.3), 0 1px 3px 1px rgba(60, 64, 67, 0.15);\n",
              "    fill: var(--button-hover-fill-color);\n",
              "  }\n",
              "\n",
              "  .colab-df-quickchart-complete:disabled,\n",
              "  .colab-df-quickchart-complete:disabled:hover {\n",
              "    background-color: var(--disabled-bg-color);\n",
              "    fill: var(--disabled-fill-color);\n",
              "    box-shadow: none;\n",
              "  }\n",
              "\n",
              "  .colab-df-spinner {\n",
              "    border: 2px solid var(--fill-color);\n",
              "    border-color: transparent;\n",
              "    border-bottom-color: var(--fill-color);\n",
              "    animation:\n",
              "      spin 1s steps(1) infinite;\n",
              "  }\n",
              "\n",
              "  @keyframes spin {\n",
              "    0% {\n",
              "      border-color: transparent;\n",
              "      border-bottom-color: var(--fill-color);\n",
              "      border-left-color: var(--fill-color);\n",
              "    }\n",
              "    20% {\n",
              "      border-color: transparent;\n",
              "      border-left-color: var(--fill-color);\n",
              "      border-top-color: var(--fill-color);\n",
              "    }\n",
              "    30% {\n",
              "      border-color: transparent;\n",
              "      border-left-color: var(--fill-color);\n",
              "      border-top-color: var(--fill-color);\n",
              "      border-right-color: var(--fill-color);\n",
              "    }\n",
              "    40% {\n",
              "      border-color: transparent;\n",
              "      border-right-color: var(--fill-color);\n",
              "      border-top-color: var(--fill-color);\n",
              "    }\n",
              "    60% {\n",
              "      border-color: transparent;\n",
              "      border-right-color: var(--fill-color);\n",
              "    }\n",
              "    80% {\n",
              "      border-color: transparent;\n",
              "      border-right-color: var(--fill-color);\n",
              "      border-bottom-color: var(--fill-color);\n",
              "    }\n",
              "    90% {\n",
              "      border-color: transparent;\n",
              "      border-bottom-color: var(--fill-color);\n",
              "    }\n",
              "  }\n",
              "</style>\n",
              "\n",
              "      <script>\n",
              "        async function quickchart(key) {\n",
              "          const quickchartButtonEl =\n",
              "            document.querySelector('#' + key + ' button');\n",
              "          quickchartButtonEl.disabled = true;  // To prevent multiple clicks.\n",
              "          quickchartButtonEl.classList.add('colab-df-spinner');\n",
              "          try {\n",
              "            const charts = await google.colab.kernel.invokeFunction(\n",
              "                'suggestCharts', [key], {});\n",
              "          } catch (error) {\n",
              "            console.error('Error during call to suggestCharts:', error);\n",
              "          }\n",
              "          quickchartButtonEl.classList.remove('colab-df-spinner');\n",
              "          quickchartButtonEl.classList.add('colab-df-quickchart-complete');\n",
              "        }\n",
              "        (() => {\n",
              "          let quickchartButtonEl =\n",
              "            document.querySelector('#df-47062eb4-afcc-4ac2-89a6-6aa15f8c60be button');\n",
              "          quickchartButtonEl.style.display =\n",
              "            google.colab.kernel.accessAllowed ? 'block' : 'none';\n",
              "        })();\n",
              "      </script>\n",
              "    </div>\n",
              "\n",
              "    </div>\n",
              "  </div>\n"
            ],
            "text/plain": [
              "                                               title  \\\n",
              "0   BREAKING: GOP Chairman Grassley Has Had Enoug...   \n",
              "1   Failed GOP Candidates Remembered In Hilarious...   \n",
              "2   Mike Pence\u2019s New DC Neighbors Are HILARIOUSLY...   \n",
              "3  California AG pledges to defend birth control ...   \n",
              "4  AZ RANCHERS Living On US-Mexico Border Destroy...   \n",
              "\n",
              "                                                text       subject  \\\n",
              "0  Donald Trump s White House is in chaos, and th...          News   \n",
              "1  Now that Donald Trump is the presumptive GOP n...          News   \n",
              "2  Mike Pence is a huge homophobe. He supports ex...          News   \n",
              "3  SAN FRANCISCO (Reuters) - California Attorney ...  politicsNews   \n",
              "4  Twisted reasoning is all that comes from Pelos...      politics   \n",
              "\n",
              "               date  label                                            content  \n",
              "0     July 21, 2017      0   BREAKING: GOP Chairman Grassley Has Had Enoug...  \n",
              "1       May 7, 2016      0   Failed GOP Candidates Remembered In Hilarious...  \n",
              "2  December 3, 2016      0   Mike Pence\u2019s New DC Neighbors Are HILARIOUSLY...  \n",
              "3  October 6, 2017       1  California AG pledges to defend birth control ...  \n",
              "4      Apr 25, 2017      0  AZ RANCHERS Living On US-Mexico Border Destroy...  "
            ]
          },
          "execution_count": 113,
          "metadata": {},
          "output_type": "execute_result"
        }
      ],
      "source": [
        "news_data.head()"
      ]
    },
    {
      "cell_type": "code",
      "execution_count": 114,
      "metadata": {
        "colab": {
          "base_uri": "https://localhost:8080/",
          "height": 366
        },
        "id": "hbbPKRPYxyH2",
        "outputId": "6977b380-b04d-4e2c-d4c5-0ec8adaeedc4"
      },
      "outputs": [
        {
          "data": {
            "text/html": [
              "<div>\n",
              "<style scoped>\n",
              "    .dataframe tbody tr th:only-of-type {\n",
              "        vertical-align: middle;\n",
              "    }\n",
              "\n",
              "    .dataframe tbody tr th {\n",
              "        vertical-align: top;\n",
              "    }\n",
              "\n",
              "    .dataframe thead th {\n",
              "        text-align: right;\n",
              "    }\n",
              "</style>\n",
              "<table border=\"1\" class=\"dataframe\">\n",
              "  <thead>\n",
              "    <tr style=\"text-align: right;\">\n",
              "      <th></th>\n",
              "      <th>count</th>\n",
              "    </tr>\n",
              "    <tr>\n",
              "      <th>subject</th>\n",
              "      <th></th>\n",
              "    </tr>\n",
              "  </thead>\n",
              "  <tbody>\n",
              "    <tr>\n",
              "      <th>politicsNews</th>\n",
              "      <td>11272</td>\n",
              "    </tr>\n",
              "    <tr>\n",
              "      <th>worldnews</th>\n",
              "      <td>10145</td>\n",
              "    </tr>\n",
              "    <tr>\n",
              "      <th>News</th>\n",
              "      <td>9050</td>\n",
              "    </tr>\n",
              "    <tr>\n",
              "      <th>politics</th>\n",
              "      <td>6841</td>\n",
              "    </tr>\n",
              "    <tr>\n",
              "      <th>left-news</th>\n",
              "      <td>4459</td>\n",
              "    </tr>\n",
              "    <tr>\n",
              "      <th>Government News</th>\n",
              "      <td>1570</td>\n",
              "    </tr>\n",
              "    <tr>\n",
              "      <th>US_News</th>\n",
              "      <td>783</td>\n",
              "    </tr>\n",
              "    <tr>\n",
              "      <th>Middle-east</th>\n",
              "      <td>778</td>\n",
              "    </tr>\n",
              "  </tbody>\n",
              "</table>\n",
              "</div><br><label><b>dtype:</b> int64</label>"
            ],
            "text/plain": [
              "subject\n",
              "politicsNews       11272\n",
              "worldnews          10145\n",
              "News                9050\n",
              "politics            6841\n",
              "left-news           4459\n",
              "Government News     1570\n",
              "US_News              783\n",
              "Middle-east          778\n",
              "Name: count, dtype: int64"
            ]
          },
          "execution_count": 114,
          "metadata": {},
          "output_type": "execute_result"
        }
      ],
      "source": [
        "# Count how many news articles belong to each subject/category\n",
        "news_data.value_counts('subject')"
      ]
    },
    {
      "cell_type": "markdown",
      "metadata": {
        "id": "FCQ0754fyzsX"
      },
      "source": [
        "# Step - 4\n",
        "### Stemming"
      ]
    },
    {
      "cell_type": "markdown",
      "metadata": {
        "id": "1Xb7CwUJy7RN"
      },
      "source": [
        "Stemming is the process of reducing a word to its root word.\n",
        "- e.g:- \"enjoyed\" , \"enjoyable\" , \"enjoying\" ---> \"enjoy\""
      ]
    },
    {
      "cell_type": "code",
      "execution_count": 115,
      "metadata": {
        "id": "i2bjWEhchPvk"
      },
      "outputs": [],
      "source": [
        "# Load stopwords once\n",
        "stop_words = set(stopwords.words('english'))"
      ]
    },
    {
      "cell_type": "code",
      "execution_count": 116,
      "metadata": {
        "id": "06kOJFHUyytR"
      },
      "outputs": [],
      "source": [
        "# load an instance of Porter Stemmer in a variable\n",
        "port_stem = PorterStemmer()"
      ]
    },
    {
      "cell_type": "markdown",
      "metadata": {
        "id": "S7F_HvRE2UId"
      },
      "source": [
        "This function cleans the text, removes stopwords, and applies stemming to reduce words to their root form.\n"
      ]
    },
    {
      "cell_type": "code",
      "execution_count": 117,
      "metadata": {
        "id": "di6IY9z9zjfz"
      },
      "outputs": [],
      "source": [
        "# create a function for stemming\n",
        "def stemming(content):\n",
        "    stemmed_content = re.sub('[^a-zA-Z]', ' ', content)\n",
        "    # Removes everything except letters (gets rid of numbers, punctuation, etc.)\n",
        "    # ^ means exclude everthing else except ; [a-zA-Z] matches all letters; re.sub replaces non-letters in 'content' with spaces\n",
        "\n",
        "    stemmed_content = stemmed_content.lower()\n",
        "    # Converts all text to lowercase\n",
        "\n",
        "    stemmed_content = stemmed_content.split()\n",
        "    # Splits the sentence into individual words\n",
        "\n",
        "    stemmed_content = [port_stem.stem(word)\n",
        "                       for word in stemmed_content\n",
        "                       if not word in stop_words]\n",
        "    # Removes common stopwords and stems each word to its root form\n",
        "\n",
        "    stemmed_content = \" \".join(stemmed_content)\n",
        "    # Joins the cleaned words back into a single string\n",
        "\n",
        "    return stemmed_content\n",
        "    # Returns the final preprocessed text\n"
      ]
    },
    {
      "cell_type": "markdown",
      "metadata": {
        "id": "_-kOVR9Ojc2J"
      },
      "source": [
        "- `tqdm` is a Python library that shows a progress bar for loops \u2014 useful for long operations like text preprocessing.\n",
        "\n",
        "- `tqdm.notebook` version is specifically designed for Jupyter/Colab notebooks with nice formatting.\n",
        "\n",
        "- `tqdm.pandas()` integrates `tqdm` with pandas, so you can use `.progress_apply()` on DataFrame columns.\n",
        "\n",
        "- `news_data['content'].progress_apply(stemming)` applies your custom `stemming()` function to every row in the `content` column, while showing live progress.\n",
        "\n",
        "- This helps you track the progress of the stemming operation and estimate how long it will take to finish.\n",
        "\n"
      ]
    },
    {
      "cell_type": "code",
      "execution_count": 118,
      "metadata": {
        "colab": {
          "base_uri": "https://localhost:8080/",
          "height": 49,
          "referenced_widgets": [
            "2d70bd2a73a44aa49438c4c016f07d18",
            "7bf3ff30bedd4c759743b20a2faad035",
            "607dd1bee0b64d95ac0b1a818006b129",
            "939033439a40427988f9dac06992cb52",
            "810e562d7c5b4c9498f3ecb6e00a32f3",
            "0f95d5ad82f649c7b267ef92f9de9c4a",
            "0910cb45b2ac4b328c8b371428fb8081",
            "2f1ecb37d9514bc5bc39a829b3817980",
            "e581301d5a4f4355a27dcb532c87dcad",
            "aa023c5dcf21453dadf235e5aa1ec47f",
            "77cfc2788dd0400f94505d72d7f0e7d4"
          ]
        },
        "id": "EHXqNjzFhVKl",
        "outputId": "b2093dd2-c3a1-4796-acd2-0ff371560142"
      },
      "outputs": [
        {
          "data": {
            "application/vnd.jupyter.widget-view+json": {
              "model_id": "2d70bd2a73a44aa49438c4c016f07d18",
              "version_major": 2,
              "version_minor": 0
            },
            "text/plain": [
              "  0%|          | 0/44898 [00:00<?, ?it/s]"
            ]
          },
          "metadata": {},
          "output_type": "display_data"
        }
      ],
      "source": [
        "from tqdm.notebook import tqdm\n",
        "\n",
        "tqdm.pandas()  # activate tqdm with pandas\n",
        "\n",
        "news_data['content'] = news_data['content'].progress_apply(stemming)"
      ]
    },
    {
      "cell_type": "code",
      "execution_count": 119,
      "metadata": {
        "colab": {
          "base_uri": "https://localhost:8080/"
        },
        "id": "zw2SiWw43Z-U",
        "outputId": "6b91055f-ef35-450e-a34f-fcdfffddec90"
      },
      "outputs": [
        {
          "name": "stdout",
          "output_type": "stream",
          "text": [
            "0        break gop chairman grassley enough demand trum...\n",
            "1        fail gop candid rememb hilari mock eulog video...\n",
            "2        mike penc new dc neighbor hilari troll homopho...\n",
            "3        california ag pledg defend birth control insur...\n",
            "4        az rancher live us mexico border destroy nanci...\n",
            "                               ...                        \n",
            "44893    nigeria say u agre delay million fighter plane...\n",
            "44894    boiler room fatal illus tune altern current ra...\n",
            "44895    atheist sue governor texa display capitol grou...\n",
            "44896    republican tax plan would deal financi hit u u...\n",
            "44897    u n refuge commission say australia must stop ...\n",
            "Name: content, Length: 44898, dtype: object\n"
          ]
        }
      ],
      "source": [
        "# printing the content column\n",
        "print(news_data['content'])"
      ]
    },
    {
      "cell_type": "markdown",
      "metadata": {
        "id": "I7XDn-GU5sJQ"
      },
      "source": [
        "# Step - 5\n",
        "### TF-IDF Vectorization\n",
        "\n"
      ]
    },
    {
      "cell_type": "markdown",
      "metadata": {
        "id": "3QWUkCDR5wR1"
      },
      "source": [
        "**TF-IDF (Term Frequency-Inverse Document Frequency)** converts the raw text into numerical feature vectors,\n",
        "giving more importance to rare but meaningful words in the corpus.\n"
      ]
    },
    {
      "cell_type": "markdown",
      "metadata": {
        "id": "NaNn1IYCmd71"
      },
      "source": [
        "- Initialize TF-IDF Vectorizer to convert text into numerical features\n",
        "- Removes English stopwords (common words that add little meaning)\n",
        "- Limits features to top 5000 most important words/ngrams\n",
        "- Considers unigrams and bigrams (single words and pairs of words)\n",
        "\n"
      ]
    },
    {
      "cell_type": "code",
      "execution_count": 120,
      "metadata": {
        "id": "4jZMU3Xp4k2y"
      },
      "outputs": [],
      "source": [
        "vectorizer = TfidfVectorizer(stop_words='english', max_features=5000, ngram_range=(1,2))"
      ]
    },
    {
      "cell_type": "code",
      "execution_count": 121,
      "metadata": {
        "id": "shUbl2FT6N_c"
      },
      "outputs": [],
      "source": [
        "# Fit the vectorizer on the text and transform it into TF-IDF feature matrix\n",
        "X_text = vectorizer.fit_transform(news_data['content'].values)"
      ]
    },
    {
      "cell_type": "markdown",
      "metadata": {
        "id": "Yo42KD63yfjW"
      },
      "source": [
        "# Step - 6\n",
        "### Feature and Target split"
      ]
    },
    {
      "cell_type": "code",
      "execution_count": 122,
      "metadata": {
        "id": "NVmJCpFix5er"
      },
      "outputs": [],
      "source": [
        "# Features\n",
        "X = X_text"
      ]
    },
    {
      "cell_type": "code",
      "execution_count": 123,
      "metadata": {
        "id": "sMva-S58yn1n"
      },
      "outputs": [],
      "source": [
        "# Target\n",
        "Y = news_data['label'].values"
      ]
    },
    {
      "cell_type": "code",
      "execution_count": 124,
      "metadata": {
        "colab": {
          "base_uri": "https://localhost:8080/"
        },
        "id": "0FxCW0pl3n87",
        "outputId": "12374d9e-fd76-4348-ea24-fc2b2d807b8b"
      },
      "outputs": [
        {
          "name": "stdout",
          "output_type": "stream",
          "text": [
            "<Compressed Sparse Row sparse matrix of dtype 'float64'\n",
            "\twith 6187557 stored elements and shape (44898, 5000)>\n",
            "  Coords\tValues\n",
            "  (0, 507)\t0.0485466479877629\n",
            "  (0, 1794)\t0.10188911568466509\n",
            "  (0, 655)\t0.05186727330013525\n",
            "  (0, 1819)\t0.43158932367733177\n",
            "  (0, 1106)\t0.15036687605128288\n",
            "  (0, 4575)\t0.23205761765630598\n",
            "  (0, 2276)\t0.20427127659121785\n",
            "  (0, 4430)\t0.06835972553802824\n",
            "  (0, 1243)\t0.10410408874692799\n",
            "  (0, 4888)\t0.09984822141101216\n",
            "  (0, 1989)\t0.09131757893957723\n",
            "  (0, 665)\t0.06743181882420565\n",
            "  (0, 4560)\t0.035272432587098806\n",
            "  (0, 975)\t0.05190607908229499\n",
            "  (0, 3727)\t0.044254254155975406\n",
            "  (0, 3343)\t0.09135126841786088\n",
            "  (0, 2770)\t0.07078423115355227\n",
            "  (0, 1988)\t0.04899170180891784\n",
            "  (0, 3512)\t0.09729971476537777\n",
            "  (0, 37)\t0.061120220083829\n",
            "  (0, 4326)\t0.06350151792166332\n",
            "  (0, 1527)\t0.05818819565078035\n",
            "  (0, 2858)\t0.04642367595039506\n",
            "  (0, 1957)\t0.08134114458238977\n",
            "  (0, 2005)\t0.04255248357009092\n",
            "  :\t:\n",
            "  (44897, 3907)\t0.10931322240385702\n",
            "  (44897, 3546)\t0.05664374257278219\n",
            "  (44897, 278)\t0.11088707236273967\n",
            "  (44897, 821)\t0.1963772093174271\n",
            "  (44897, 2999)\t0.04118869638065395\n",
            "  (44897, 2017)\t0.04016624531983842\n",
            "  (44897, 1157)\t0.2911326728611295\n",
            "  (44897, 1514)\t0.0450235237387308\n",
            "  (44897, 1159)\t0.04689688586051522\n",
            "  (44897, 1001)\t0.04024236159746967\n",
            "  (44897, 4770)\t0.04748248151244017\n",
            "  (44897, 3453)\t0.05547400762747426\n",
            "  (44897, 1960)\t0.050604497828991464\n",
            "  (44897, 2798)\t0.05236664824205178\n",
            "  (44897, 574)\t0.3437737129930441\n",
            "  (44897, 466)\t0.0534286903882979\n",
            "  (44897, 1156)\t0.0445901665849332\n",
            "  (44897, 2634)\t0.05387990551146317\n",
            "  (44897, 2695)\t0.055879553149058715\n",
            "  (44897, 639)\t0.05494031674763962\n",
            "  (44897, 4744)\t0.0539572957164366\n",
            "  (44897, 2047)\t0.04652999150051804\n",
            "  (44897, 3604)\t0.05355183569020925\n",
            "  (44897, 4123)\t0.05514421958587429\n",
            "  (44897, 3772)\t0.05362651772883632\n"
          ]
        }
      ],
      "source": [
        "print(X)"
      ]
    },
    {
      "cell_type": "code",
      "execution_count": 125,
      "metadata": {
        "colab": {
          "base_uri": "https://localhost:8080/"
        },
        "id": "v-oZLCeo4jWO",
        "outputId": "267dc602-a49c-4aef-993f-ce8e2501dfe0"
      },
      "outputs": [
        {
          "name": "stdout",
          "output_type": "stream",
          "text": [
            "[0 0 0 ... 0 1 1]\n"
          ]
        }
      ],
      "source": [
        "print(Y)"
      ]
    },
    {
      "cell_type": "markdown",
      "metadata": {
        "id": "YSvjqkGb7MYs"
      },
      "source": [
        "# Step - 7\n",
        "### Train Test Split"
      ]
    },
    {
      "cell_type": "markdown",
      "metadata": {
        "id": "vNeDUdsRnNv9"
      },
      "source": [
        "- Splitting data into training and testing sets\n",
        "- 80% training data, 20% testing data\n",
        "- Stratify to keep label distribution consistent in both sets"
      ]
    },
    {
      "cell_type": "code",
      "execution_count": 126,
      "metadata": {
        "id": "AEBIr1Dm6UsX"
      },
      "outputs": [],
      "source": [
        "X_train , X_test , Y_train , Y_test = train_test_split(\n",
        "    X , Y , test_size= 0.2 , random_state=2 , stratify= Y)"
      ]
    },
    {
      "cell_type": "markdown",
      "metadata": {
        "id": "y6EwaA6572j2"
      },
      "source": [
        "# Step - 8\n",
        "### Model Training\n",
        "Initialize and train the Logistic Regression model\n"
      ]
    },
    {
      "cell_type": "code",
      "execution_count": 127,
      "metadata": {
        "id": "cwO_4Y_V7hOK"
      },
      "outputs": [],
      "source": [
        "model = LogisticRegression()"
      ]
    },
    {
      "cell_type": "code",
      "execution_count": 133,
      "metadata": {
        "colab": {
          "base_uri": "https://localhost:8080/",
          "height": 80
        },
        "id": "C5wTiTDN77g8",
        "outputId": "daee389d-b03d-41c9-d79f-a0679225615c"
      },
      "outputs": [
        {
          "data": {
            "text/html": [
              "<style>#sk-container-id-3 {\n",
              "  /* Definition of color scheme common for light and dark mode */\n",
              "  --sklearn-color-text: #000;\n",
              "  --sklearn-color-text-muted: #666;\n",
              "  --sklearn-color-line: gray;\n",
              "  /* Definition of color scheme for unfitted estimators */\n",
              "  --sklearn-color-unfitted-level-0: #fff5e6;\n",
              "  --sklearn-color-unfitted-level-1: #f6e4d2;\n",
              "  --sklearn-color-unfitted-level-2: #ffe0b3;\n",
              "  --sklearn-color-unfitted-level-3: chocolate;\n",
              "  /* Definition of color scheme for fitted estimators */\n",
              "  --sklearn-color-fitted-level-0: #f0f8ff;\n",
              "  --sklearn-color-fitted-level-1: #d4ebff;\n",
              "  --sklearn-color-fitted-level-2: #b3dbfd;\n",
              "  --sklearn-color-fitted-level-3: cornflowerblue;\n",
              "\n",
              "  /* Specific color for light theme */\n",
              "  --sklearn-color-text-on-default-background: var(--sg-text-color, var(--theme-code-foreground, var(--jp-content-font-color1, black)));\n",
              "  --sklearn-color-background: var(--sg-background-color, var(--theme-background, var(--jp-layout-color0, white)));\n",
              "  --sklearn-color-border-box: var(--sg-text-color, var(--theme-code-foreground, var(--jp-content-font-color1, black)));\n",
              "  --sklearn-color-icon: #696969;\n",
              "\n",
              "  @media (prefers-color-scheme: dark) {\n",
              "    /* Redefinition of color scheme for dark theme */\n",
              "    --sklearn-color-text-on-default-background: var(--sg-text-color, var(--theme-code-foreground, var(--jp-content-font-color1, white)));\n",
              "    --sklearn-color-background: var(--sg-background-color, var(--theme-background, var(--jp-layout-color0, #111)));\n",
              "    --sklearn-color-border-box: var(--sg-text-color, var(--theme-code-foreground, var(--jp-content-font-color1, white)));\n",
              "    --sklearn-color-icon: #878787;\n",
              "  }\n",
              "}\n",
              "\n",
              "#sk-container-id-3 {\n",
              "  color: var(--sklearn-color-text);\n",
              "}\n",
              "\n",
              "#sk-container-id-3 pre {\n",
              "  padding: 0;\n",
              "}\n",
              "\n",
              "#sk-container-id-3 input.sk-hidden--visually {\n",
              "  border: 0;\n",
              "  clip: rect(1px 1px 1px 1px);\n",
              "  clip: rect(1px, 1px, 1px, 1px);\n",
              "  height: 1px;\n",
              "  margin: -1px;\n",
              "  overflow: hidden;\n",
              "  padding: 0;\n",
              "  position: absolute;\n",
              "  width: 1px;\n",
              "}\n",
              "\n",
              "#sk-container-id-3 div.sk-dashed-wrapped {\n",
              "  border: 1px dashed var(--sklearn-color-line);\n",
              "  margin: 0 0.4em 0.5em 0.4em;\n",
              "  box-sizing: border-box;\n",
              "  padding-bottom: 0.4em;\n",
              "  background-color: var(--sklearn-color-background);\n",
              "}\n",
              "\n",
              "#sk-container-id-3 div.sk-container {\n",
              "  /* jupyter's `normalize.less` sets `[hidden] { display: none; }`\n",
              "     but bootstrap.min.css set `[hidden] { display: none !important; }`\n",
              "     so we also need the `!important` here to be able to override the\n",
              "     default hidden behavior on the sphinx rendered scikit-learn.org.\n",
              "     See: https://github.com/scikit-learn/scikit-learn/issues/21755 */\n",
              "  display: inline-block !important;\n",
              "  position: relative;\n",
              "}\n",
              "\n",
              "#sk-container-id-3 div.sk-text-repr-fallback {\n",
              "  display: none;\n",
              "}\n",
              "\n",
              "div.sk-parallel-item,\n",
              "div.sk-serial,\n",
              "div.sk-item {\n",
              "  /* draw centered vertical line to link estimators */\n",
              "  background-image: linear-gradient(var(--sklearn-color-text-on-default-background), var(--sklearn-color-text-on-default-background));\n",
              "  background-size: 2px 100%;\n",
              "  background-repeat: no-repeat;\n",
              "  background-position: center center;\n",
              "}\n",
              "\n",
              "/* Parallel-specific style estimator block */\n",
              "\n",
              "#sk-container-id-3 div.sk-parallel-item::after {\n",
              "  content: \"\";\n",
              "  width: 100%;\n",
              "  border-bottom: 2px solid var(--sklearn-color-text-on-default-background);\n",
              "  flex-grow: 1;\n",
              "}\n",
              "\n",
              "#sk-container-id-3 div.sk-parallel {\n",
              "  display: flex;\n",
              "  align-items: stretch;\n",
              "  justify-content: center;\n",
              "  background-color: var(--sklearn-color-background);\n",
              "  position: relative;\n",
              "}\n",
              "\n",
              "#sk-container-id-3 div.sk-parallel-item {\n",
              "  display: flex;\n",
              "  flex-direction: column;\n",
              "}\n",
              "\n",
              "#sk-container-id-3 div.sk-parallel-item:first-child::after {\n",
              "  align-self: flex-end;\n",
              "  width: 50%;\n",
              "}\n",
              "\n",
              "#sk-container-id-3 div.sk-parallel-item:last-child::after {\n",
              "  align-self: flex-start;\n",
              "  width: 50%;\n",
              "}\n",
              "\n",
              "#sk-container-id-3 div.sk-parallel-item:only-child::after {\n",
              "  width: 0;\n",
              "}\n",
              "\n",
              "/* Serial-specific style estimator block */\n",
              "\n",
              "#sk-container-id-3 div.sk-serial {\n",
              "  display: flex;\n",
              "  flex-direction: column;\n",
              "  align-items: center;\n",
              "  background-color: var(--sklearn-color-background);\n",
              "  padding-right: 1em;\n",
              "  padding-left: 1em;\n",
              "}\n",
              "\n",
              "\n",
              "/* Toggleable style: style used for estimator/Pipeline/ColumnTransformer box that is\n",
              "clickable and can be expanded/collapsed.\n",
              "- Pipeline and ColumnTransformer use this feature and define the default style\n",
              "- Estimators will overwrite some part of the style using the `sk-estimator` class\n",
              "*/\n",
              "\n",
              "/* Pipeline and ColumnTransformer style (default) */\n",
              "\n",
              "#sk-container-id-3 div.sk-toggleable {\n",
              "  /* Default theme specific background. It is overwritten whether we have a\n",
              "  specific estimator or a Pipeline/ColumnTransformer */\n",
              "  background-color: var(--sklearn-color-background);\n",
              "}\n",
              "\n",
              "/* Toggleable label */\n",
              "#sk-container-id-3 label.sk-toggleable__label {\n",
              "  cursor: pointer;\n",
              "  display: flex;\n",
              "  width: 100%;\n",
              "  margin-bottom: 0;\n",
              "  padding: 0.5em;\n",
              "  box-sizing: border-box;\n",
              "  text-align: center;\n",
              "  align-items: start;\n",
              "  justify-content: space-between;\n",
              "  gap: 0.5em;\n",
              "}\n",
              "\n",
              "#sk-container-id-3 label.sk-toggleable__label .caption {\n",
              "  font-size: 0.6rem;\n",
              "  font-weight: lighter;\n",
              "  color: var(--sklearn-color-text-muted);\n",
              "}\n",
              "\n",
              "#sk-container-id-3 label.sk-toggleable__label-arrow:before {\n",
              "  /* Arrow on the left of the label */\n",
              "  content: \"\u25b8\";\n",
              "  float: left;\n",
              "  margin-right: 0.25em;\n",
              "  color: var(--sklearn-color-icon);\n",
              "}\n",
              "\n",
              "#sk-container-id-3 label.sk-toggleable__label-arrow:hover:before {\n",
              "  color: var(--sklearn-color-text);\n",
              "}\n",
              "\n",
              "/* Toggleable content - dropdown */\n",
              "\n",
              "#sk-container-id-3 div.sk-toggleable__content {\n",
              "  max-height: 0;\n",
              "  max-width: 0;\n",
              "  overflow: hidden;\n",
              "  text-align: left;\n",
              "  /* unfitted */\n",
              "  background-color: var(--sklearn-color-unfitted-level-0);\n",
              "}\n",
              "\n",
              "#sk-container-id-3 div.sk-toggleable__content.fitted {\n",
              "  /* fitted */\n",
              "  background-color: var(--sklearn-color-fitted-level-0);\n",
              "}\n",
              "\n",
              "#sk-container-id-3 div.sk-toggleable__content pre {\n",
              "  margin: 0.2em;\n",
              "  border-radius: 0.25em;\n",
              "  color: var(--sklearn-color-text);\n",
              "  /* unfitted */\n",
              "  background-color: var(--sklearn-color-unfitted-level-0);\n",
              "}\n",
              "\n",
              "#sk-container-id-3 div.sk-toggleable__content.fitted pre {\n",
              "  /* unfitted */\n",
              "  background-color: var(--sklearn-color-fitted-level-0);\n",
              "}\n",
              "\n",
              "#sk-container-id-3 input.sk-toggleable__control:checked~div.sk-toggleable__content {\n",
              "  /* Expand drop-down */\n",
              "  max-height: 200px;\n",
              "  max-width: 100%;\n",
              "  overflow: auto;\n",
              "}\n",
              "\n",
              "#sk-container-id-3 input.sk-toggleable__control:checked~label.sk-toggleable__label-arrow:before {\n",
              "  content: \"\u25be\";\n",
              "}\n",
              "\n",
              "/* Pipeline/ColumnTransformer-specific style */\n",
              "\n",
              "#sk-container-id-3 div.sk-label input.sk-toggleable__control:checked~label.sk-toggleable__label {\n",
              "  color: var(--sklearn-color-text);\n",
              "  background-color: var(--sklearn-color-unfitted-level-2);\n",
              "}\n",
              "\n",
              "#sk-container-id-3 div.sk-label.fitted input.sk-toggleable__control:checked~label.sk-toggleable__label {\n",
              "  background-color: var(--sklearn-color-fitted-level-2);\n",
              "}\n",
              "\n",
              "/* Estimator-specific style */\n",
              "\n",
              "/* Colorize estimator box */\n",
              "#sk-container-id-3 div.sk-estimator input.sk-toggleable__control:checked~label.sk-toggleable__label {\n",
              "  /* unfitted */\n",
              "  background-color: var(--sklearn-color-unfitted-level-2);\n",
              "}\n",
              "\n",
              "#sk-container-id-3 div.sk-estimator.fitted input.sk-toggleable__control:checked~label.sk-toggleable__label {\n",
              "  /* fitted */\n",
              "  background-color: var(--sklearn-color-fitted-level-2);\n",
              "}\n",
              "\n",
              "#sk-container-id-3 div.sk-label label.sk-toggleable__label,\n",
              "#sk-container-id-3 div.sk-label label {\n",
              "  /* The background is the default theme color */\n",
              "  color: var(--sklearn-color-text-on-default-background);\n",
              "}\n",
              "\n",
              "/* On hover, darken the color of the background */\n",
              "#sk-container-id-3 div.sk-label:hover label.sk-toggleable__label {\n",
              "  color: var(--sklearn-color-text);\n",
              "  background-color: var(--sklearn-color-unfitted-level-2);\n",
              "}\n",
              "\n",
              "/* Label box, darken color on hover, fitted */\n",
              "#sk-container-id-3 div.sk-label.fitted:hover label.sk-toggleable__label.fitted {\n",
              "  color: var(--sklearn-color-text);\n",
              "  background-color: var(--sklearn-color-fitted-level-2);\n",
              "}\n",
              "\n",
              "/* Estimator label */\n",
              "\n",
              "#sk-container-id-3 div.sk-label label {\n",
              "  font-family: monospace;\n",
              "  font-weight: bold;\n",
              "  display: inline-block;\n",
              "  line-height: 1.2em;\n",
              "}\n",
              "\n",
              "#sk-container-id-3 div.sk-label-container {\n",
              "  text-align: center;\n",
              "}\n",
              "\n",
              "/* Estimator-specific */\n",
              "#sk-container-id-3 div.sk-estimator {\n",
              "  font-family: monospace;\n",
              "  border: 1px dotted var(--sklearn-color-border-box);\n",
              "  border-radius: 0.25em;\n",
              "  box-sizing: border-box;\n",
              "  margin-bottom: 0.5em;\n",
              "  /* unfitted */\n",
              "  background-color: var(--sklearn-color-unfitted-level-0);\n",
              "}\n",
              "\n",
              "#sk-container-id-3 div.sk-estimator.fitted {\n",
              "  /* fitted */\n",
              "  background-color: var(--sklearn-color-fitted-level-0);\n",
              "}\n",
              "\n",
              "/* on hover */\n",
              "#sk-container-id-3 div.sk-estimator:hover {\n",
              "  /* unfitted */\n",
              "  background-color: var(--sklearn-color-unfitted-level-2);\n",
              "}\n",
              "\n",
              "#sk-container-id-3 div.sk-estimator.fitted:hover {\n",
              "  /* fitted */\n",
              "  background-color: var(--sklearn-color-fitted-level-2);\n",
              "}\n",
              "\n",
              "/* Specification for estimator info (e.g. \"i\" and \"?\") */\n",
              "\n",
              "/* Common style for \"i\" and \"?\" */\n",
              "\n",
              ".sk-estimator-doc-link,\n",
              "a:link.sk-estimator-doc-link,\n",
              "a:visited.sk-estimator-doc-link {\n",
              "  float: right;\n",
              "  font-size: smaller;\n",
              "  line-height: 1em;\n",
              "  font-family: monospace;\n",
              "  background-color: var(--sklearn-color-background);\n",
              "  border-radius: 1em;\n",
              "  height: 1em;\n",
              "  width: 1em;\n",
              "  text-decoration: none !important;\n",
              "  margin-left: 0.5em;\n",
              "  text-align: center;\n",
              "  /* unfitted */\n",
              "  border: var(--sklearn-color-unfitted-level-1) 1pt solid;\n",
              "  color: var(--sklearn-color-unfitted-level-1);\n",
              "}\n",
              "\n",
              ".sk-estimator-doc-link.fitted,\n",
              "a:link.sk-estimator-doc-link.fitted,\n",
              "a:visited.sk-estimator-doc-link.fitted {\n",
              "  /* fitted */\n",
              "  border: var(--sklearn-color-fitted-level-1) 1pt solid;\n",
              "  color: var(--sklearn-color-fitted-level-1);\n",
              "}\n",
              "\n",
              "/* On hover */\n",
              "div.sk-estimator:hover .sk-estimator-doc-link:hover,\n",
              ".sk-estimator-doc-link:hover,\n",
              "div.sk-label-container:hover .sk-estimator-doc-link:hover,\n",
              ".sk-estimator-doc-link:hover {\n",
              "  /* unfitted */\n",
              "  background-color: var(--sklearn-color-unfitted-level-3);\n",
              "  color: var(--sklearn-color-background);\n",
              "  text-decoration: none;\n",
              "}\n",
              "\n",
              "div.sk-estimator.fitted:hover .sk-estimator-doc-link.fitted:hover,\n",
              ".sk-estimator-doc-link.fitted:hover,\n",
              "div.sk-label-container:hover .sk-estimator-doc-link.fitted:hover,\n",
              ".sk-estimator-doc-link.fitted:hover {\n",
              "  /* fitted */\n",
              "  background-color: var(--sklearn-color-fitted-level-3);\n",
              "  color: var(--sklearn-color-background);\n",
              "  text-decoration: none;\n",
              "}\n",
              "\n",
              "/* Span, style for the box shown on hovering the info icon */\n",
              ".sk-estimator-doc-link span {\n",
              "  display: none;\n",
              "  z-index: 9999;\n",
              "  position: relative;\n",
              "  font-weight: normal;\n",
              "  right: .2ex;\n",
              "  padding: .5ex;\n",
              "  margin: .5ex;\n",
              "  width: min-content;\n",
              "  min-width: 20ex;\n",
              "  max-width: 50ex;\n",
              "  color: var(--sklearn-color-text);\n",
              "  box-shadow: 2pt 2pt 4pt #999;\n",
              "  /* unfitted */\n",
              "  background: var(--sklearn-color-unfitted-level-0);\n",
              "  border: .5pt solid var(--sklearn-color-unfitted-level-3);\n",
              "}\n",
              "\n",
              ".sk-estimator-doc-link.fitted span {\n",
              "  /* fitted */\n",
              "  background: var(--sklearn-color-fitted-level-0);\n",
              "  border: var(--sklearn-color-fitted-level-3);\n",
              "}\n",
              "\n",
              ".sk-estimator-doc-link:hover span {\n",
              "  display: block;\n",
              "}\n",
              "\n",
              "/* \"?\"-specific style due to the `<a>` HTML tag */\n",
              "\n",
              "#sk-container-id-3 a.estimator_doc_link {\n",
              "  float: right;\n",
              "  font-size: 1rem;\n",
              "  line-height: 1em;\n",
              "  font-family: monospace;\n",
              "  background-color: var(--sklearn-color-background);\n",
              "  border-radius: 1rem;\n",
              "  height: 1rem;\n",
              "  width: 1rem;\n",
              "  text-decoration: none;\n",
              "  /* unfitted */\n",
              "  color: var(--sklearn-color-unfitted-level-1);\n",
              "  border: var(--sklearn-color-unfitted-level-1) 1pt solid;\n",
              "}\n",
              "\n",
              "#sk-container-id-3 a.estimator_doc_link.fitted {\n",
              "  /* fitted */\n",
              "  border: var(--sklearn-color-fitted-level-1) 1pt solid;\n",
              "  color: var(--sklearn-color-fitted-level-1);\n",
              "}\n",
              "\n",
              "/* On hover */\n",
              "#sk-container-id-3 a.estimator_doc_link:hover {\n",
              "  /* unfitted */\n",
              "  background-color: var(--sklearn-color-unfitted-level-3);\n",
              "  color: var(--sklearn-color-background);\n",
              "  text-decoration: none;\n",
              "}\n",
              "\n",
              "#sk-container-id-3 a.estimator_doc_link.fitted:hover {\n",
              "  /* fitted */\n",
              "  background-color: var(--sklearn-color-fitted-level-3);\n",
              "}\n",
              "</style><div id=\"sk-container-id-3\" class=\"sk-top-container\"><div class=\"sk-text-repr-fallback\"><pre>LogisticRegression()</pre><b>In a Jupyter environment, please rerun this cell to show the HTML representation or trust the notebook. <br />On GitHub, the HTML representation is unable to render, please try loading this page with nbviewer.org.</b></div><div class=\"sk-container\" hidden><div class=\"sk-item\"><div class=\"sk-estimator fitted sk-toggleable\"><input class=\"sk-toggleable__control sk-hidden--visually\" id=\"sk-estimator-id-3\" type=\"checkbox\" checked><label for=\"sk-estimator-id-3\" class=\"sk-toggleable__label fitted sk-toggleable__label-arrow\"><div><div>LogisticRegression</div></div><div><a class=\"sk-estimator-doc-link fitted\" rel=\"noreferrer\" target=\"_blank\" href=\"https://scikit-learn.org/1.6/modules/generated/sklearn.linear_model.LogisticRegression.html\">?<span>Documentation for LogisticRegression</span></a><span class=\"sk-estimator-doc-link fitted\">i<span>Fitted</span></span></div></label><div class=\"sk-toggleable__content fitted\"><pre>LogisticRegression()</pre></div> </div></div></div></div>"
            ],
            "text/plain": [
              "LogisticRegression()"
            ]
          },
          "execution_count": 133,
          "metadata": {},
          "output_type": "execute_result"
        }
      ],
      "source": [
        "# Fit the model on the training data\n",
        "model.fit(X_train, Y_train)"
      ]
    },
    {
      "cell_type": "markdown",
      "metadata": {
        "id": "8OEqYrNB8not"
      },
      "source": [
        "# Step - 9\n",
        "### Model Evaluation"
      ]
    },
    {
      "cell_type": "code",
      "execution_count": 134,
      "metadata": {
        "id": "LahUAtxA8jTU"
      },
      "outputs": [],
      "source": [
        "# Predict on training data\n",
        "X_train_pred = model.predict(X_train)"
      ]
    },
    {
      "cell_type": "code",
      "execution_count": 135,
      "metadata": {
        "id": "7iivU_7H85l8"
      },
      "outputs": [],
      "source": [
        "# Calculate accuracy on training data\n",
        "training_data_accuracy = accuracy_score( Y_train , X_train_pred)"
      ]
    },
    {
      "cell_type": "code",
      "execution_count": 136,
      "metadata": {
        "colab": {
          "base_uri": "https://localhost:8080/"
        },
        "id": "oaPGRFek9A0E",
        "outputId": "fbaadc78-4bc4-40c2-bc51-f4b7118c51a7"
      },
      "outputs": [
        {
          "name": "stdout",
          "output_type": "stream",
          "text": [
            "Training Data Accuracy is : 0.9949607439166992\n"
          ]
        }
      ],
      "source": [
        "print(f\"Training Data Accuracy is : {training_data_accuracy}\")"
      ]
    },
    {
      "cell_type": "code",
      "execution_count": 137,
      "metadata": {
        "id": "3nj9BIQD9f5G"
      },
      "outputs": [],
      "source": [
        "# Predict on test data\n",
        "X_test_pred = model.predict(X_test)"
      ]
    },
    {
      "cell_type": "code",
      "execution_count": 138,
      "metadata": {
        "id": "8wPTKmXa9f5G"
      },
      "outputs": [],
      "source": [
        "# Calculate accuracy on test data\n",
        "test_data_accuracy = accuracy_score( Y_test , X_test_pred)"
      ]
    },
    {
      "cell_type": "code",
      "execution_count": 139,
      "metadata": {
        "colab": {
          "base_uri": "https://localhost:8080/"
        },
        "id": "seIDJxSJ9f5H",
        "outputId": "3b09212f-8d36-446e-b1d8-df348a814c2d"
      },
      "outputs": [
        {
          "name": "stdout",
          "output_type": "stream",
          "text": [
            "Test Data Accuracy is : 0.9920935412026726\n"
          ]
        }
      ],
      "source": [
        "print(f\"Test Data Accuracy is : {test_data_accuracy}\")"
      ]
    },
    {
      "cell_type": "markdown",
      "metadata": {
        "id": "AiurgCirn8cZ"
      },
      "source": [
        "# Step - 10\n",
        "### Making a Predictive Sysytem"
      ]
    },
    {
      "cell_type": "code",
      "execution_count": 142,
      "metadata": {
        "colab": {
          "base_uri": "https://localhost:8080/"
        },
        "id": "uIstH1PjTZjQ",
        "outputId": "9dfb1981-cece-4607-f1ca-b12795f0dc8d"
      },
      "outputs": [
        {
          "name": "stdout",
          "output_type": "stream",
          "text": [
            "[1]\n",
            "News is Real\n"
          ]
        }
      ],
      "source": [
        "# Select the first example from the test set features\n",
        "# Or replace with any other input of your choice\n",
        "X_new = X_test[0]\n",
        "\n",
        "# Predict the label (0: Fake, 1: Real) for this new example\n",
        "prediction = model.predict(X_new)\n",
        "\n",
        "# Print the raw prediction output\n",
        "print(prediction)\n",
        "\n",
        "# Interpret and print the human-readable result\n",
        "if (prediction[0] == 0):\n",
        "  print(\"News is Fake\")\n",
        "else:\n",
        "  print(\"News is Real\")"
      ]
    }
  ],
  "metadata": {
    "colab": {
      "provenance": []
    },
    "kernelspec": {
      "display_name": "Python 3",
      "name": "python3"
    },
    "language_info": {
      "name": "python"
    }
  },
  "nbformat": 4,
  "nbformat_minor": 0
}